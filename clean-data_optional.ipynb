{
 "cells": [
  {
   "cell_type": "markdown",
   "id": "03bd67ee-aac5-4c88-92c0-404764225506",
   "metadata": {},
   "source": [
    "## Extraction and Preprocessing of Data for Visualization \n",
    "\n",
    "#### Requirements\n",
    "This notebook was developed and tested on WSL2 Ubuntu 18.04 within the following environment.  \n",
    "<sup>Please note due to use of RAPIDS you must run this notebook on a system with at least one CUDA GPU [*](https://www.nvidia.com/en-us/geforce/technologies/cuda/supported-gpus/).</sup>\n",
    "\n",
    "```\n",
    "conda create -n rapids -c rapidsai -c nvidia -c conda-forge \\\n",
    "    cudf=0.18.1 cudnn=8.0.0 python=3.8 pandas=1.1.5 geopandas=0.8.1 cudatoolkit=11.0\n",
    "```"
   ]
  },
  {
   "cell_type": "code",
   "execution_count": 1,
   "id": "ebf020a6",
   "metadata": {},
   "outputs": [],
   "source": [
    "import pandas as pd\n",
    "import geopandas as gpd\n",
    "import numpy as np\n",
    "import cudf  # GPU Pandas"
   ]
  },
  {
   "cell_type": "markdown",
   "id": "0131c8cc-f803-4ff6-8ad5-b75d8aa34d32",
   "metadata": {},
   "source": [
    "#### Data\n",
    "Historical crime data of the City of Chicago for all crimes recorded from 2001 to present must be downloaded from [Chicago Data Portal](https://data.cityofchicago.org/Public-Safety/Crimes-2001-to-Present/ijzp-q8t2) as CSV into the root directory and renamed to `crime_big.csv`. Please note the file is ~1.7 GB.  \n",
    "Data is loaded as a GPU Dataframe for fast parallel processing with CUDA."
   ]
  },
  {
   "cell_type": "code",
   "execution_count": 2,
   "id": "3d565347",
   "metadata": {
    "tags": []
   },
   "outputs": [
    {
     "name": "stdout",
     "output_type": "stream",
     "text": [
      "<class 'cudf.core.dataframe.DataFrame'>\n",
      "RangeIndex: 7298624 entries, 0 to 7298623\n",
      "Data columns (total 22 columns):\n",
      " #   Column                Dtype\n",
      "---  ------                -----\n",
      " 0   ID                    int64\n",
      " 1   Case Number           object\n",
      " 2   Date                  object\n",
      " 3   Block                 object\n",
      " 4   IUCR                  object\n",
      " 5   Primary Type          object\n",
      " 6   Description           object\n",
      " 7   Location Description  object\n",
      " 8   Arrest                bool\n",
      " 9   Domestic              bool\n",
      " 10  Beat                  int64\n",
      " 11  District              float64\n",
      " 12  Ward                  float64\n",
      " 13  Community Area        float64\n",
      " 14  FBI Code              object\n",
      " 15  X Coordinate          float64\n",
      " 16  Y Coordinate          float64\n",
      " 17  Year                  int64\n",
      " 18  Updated On            object\n",
      " 19  Latitude              float64\n",
      " 20  Longitude             float64\n",
      " 21  Location              object\n",
      "dtypes: bool(2), float64(7), int64(3), object(10)\n",
      "memory usage: 1.8+ GB\n"
     ]
    }
   ],
   "source": [
    "### This cell may take up to 1 minute to run.\n",
    "crime_cdf = cudf.read_csv('crime-big.csv')\n",
    "crime_cdf.info()"
   ]
  },
  {
   "cell_type": "markdown",
   "id": "f1c19d18-bb9b-478e-9d5f-3d274de03818",
   "metadata": {},
   "source": [
    "----\n",
    "Dataframe is trimmed to keep only important features. Due to crime recording restrictions, kept features do not contain any NA/NULL values, but `dropna()` is implemented for contingency purposes."
   ]
  },
  {
   "cell_type": "code",
   "execution_count": 3,
   "id": "7020a08a-6410-4b02-8c80-2511225f4d2c",
   "metadata": {
    "tags": []
   },
   "outputs": [],
   "source": [
    "crime_clean = (crime_cdf[['Date', 'Primary Type', 'Latitude', 'Longitude']])\\\n",
    "              .dropna()\\\n",
    "              .rename(columns={'Date':'date',\n",
    "                               'Primary Type':'prmtype',\n",
    "                               'Latitude':'latitude',\n",
    "                               'Longitude':'longitude'})"
   ]
  },
  {
   "cell_type": "markdown",
   "id": "b5f39201-ad96-417b-b51d-ff24c8fd8c04",
   "metadata": {},
   "source": [
    "Crime data is filtered to all crimes recorded from 01/01/2010 to present."
   ]
  },
  {
   "cell_type": "code",
   "execution_count": 4,
   "id": "18f00f2b-c282-4e97-9260-69be318cb87d",
   "metadata": {},
   "outputs": [
    {
     "name": "stdout",
     "output_type": "stream",
     "text": [
      "<class 'cudf.core.dataframe.DataFrame'>\n",
      "Int64Index: 3195890 entries, 0 to 7298623\n",
      "Data columns (total 4 columns):\n",
      " #   Column     Dtype\n",
      "---  ------     -----\n",
      " 0   date       datetime64[ns]\n",
      " 1   prmtype    object\n",
      " 2   latitude   float64\n",
      " 3   longitude  float64\n",
      "dtypes: datetime64[ns](1), float64(2), object(1)\n",
      "memory usage: 140.3+ MB\n"
     ]
    }
   ],
   "source": [
    "crime_clean['date'] = cudf.to_datetime(crime_clean['date'], format='%m/%d/%Y %I:%M:%S %p')\n",
    "crime_clean = crime_clean[crime_clean['date'] >= np.datetime64('2010-01-01')]\n",
    "crime_clean.info()"
   ]
  },
  {
   "cell_type": "markdown",
   "id": "aa3d5fa2-b90a-452b-9b7e-d4213ab50af8",
   "metadata": {},
   "source": [
    "----\n",
    "#### Time Decay Factor\n",
    "Time factor for all crimes committed from 01/01/2020 until present is $1$, time factor decays linearly by day to $0$ for all crimes committed prior to 01/01/2015."
   ]
  },
  {
   "cell_type": "code",
   "execution_count": 5,
   "id": "5f5568c6-004f-4307-8f9a-81d4c9d6b0f8",
   "metadata": {},
   "outputs": [],
   "source": [
    "crime_clean['deltad'] = np.minimum((crime_clean['date'] - np.datetime64('2020-01-01')).dt.days, 0)\n",
    "crime_clean['timedecay'] = np.maximum(1 + (crime_clean['deltad']/(1826)), 0)\n",
    "crime_clean = crime_clean.drop(columns=['deltad'])"
   ]
  },
  {
   "cell_type": "markdown",
   "id": "d058d296-e943-470b-a5f7-f916de9d4a6a",
   "metadata": {},
   "source": [
    "#### Spatial Join of Zip-Code and Neighborhood\n",
    "GeoPandas was chosen over cuSpatial due to its stability (execution time vs. debugging time). Next cells should be reworked with cuSpatial in the future itterations to significantly improve performance."
   ]
  },
  {
   "cell_type": "code",
   "execution_count": 6,
   "id": "c9f54ee5-3d60-4caf-a7e2-3256c9e7ebb2",
   "metadata": {},
   "outputs": [
    {
     "name": "stdout",
     "output_type": "stream",
     "text": [
      "<class 'geopandas.geodataframe.GeoDataFrame'>\n",
      "Int64Index: 3195890 entries, 0 to 7298623\n",
      "Data columns (total 6 columns):\n",
      " #   Column     Dtype         \n",
      "---  ------     -----         \n",
      " 0   date       datetime64[ns]\n",
      " 1   prmtype    object        \n",
      " 2   latitude   float64       \n",
      " 3   longitude  float64       \n",
      " 4   timedecay  float64       \n",
      " 5   geometry   geometry      \n",
      "dtypes: datetime64[ns](1), float64(3), geometry(1), object(1)\n",
      "memory usage: 170.7+ MB\n"
     ]
    }
   ],
   "source": [
    "### This cell may take up to 1 minute to run.\n",
    "df = crime_clean.to_pandas()\n",
    "df_geom = gpd.points_from_xy(df.longitude, df.latitude, crs=\"EPSG:4326\")\n",
    "crime_gpd = gpd.GeoDataFrame(df, geometry = df_geom)\n",
    "crime_gpd.info()"
   ]
  },
  {
   "cell_type": "markdown",
   "id": "e95760b6-7dbb-4e4a-97fd-047c58474bc1",
   "metadata": {},
   "source": [
    "----\n",
    "Chicago [Neighorhood boundries](https://data.cityofchicago.org/Facilities-Geographic-Boundaries/Boundaries-Neighborhoods/9wp7-iasj) and [Zip-Code boundries](https://data.cityofchicago.org/Facilities-Geographic-Boundaries/Boundaries-ZIP-Codes/gdcf-axmw) data was also exported as `geojson` from [Chicago Data Portal](https://data.cityofchicago.org/) and saved into `geo` folder in root directory."
   ]
  },
  {
   "cell_type": "code",
   "execution_count": 7,
   "id": "7c6dd733",
   "metadata": {},
   "outputs": [],
   "source": [
    "neigh_gpd = gpd.read_file('geo/Neighborhoods.geojson')\n",
    "zip_gpd = gpd.read_file('geo/ZIP.geojson')"
   ]
  },
  {
   "cell_type": "code",
   "execution_count": 8,
   "id": "8b5689e9-8b6b-4f10-8e6d-4be1ab5de430",
   "metadata": {},
   "outputs": [],
   "source": [
    "### This cell may take up to 5 minutes to run.\n",
    "crime_gpd = gpd.sjoin(crime_gpd, neigh_gpd, op='within')\\\n",
    "               .drop(['index_right'], axis=1)  # necessary for the next spatial join\n",
    "crime_gpd = gpd.sjoin(crime_gpd, zip_gpd, op='within')"
   ]
  },
  {
   "cell_type": "code",
   "execution_count": 9,
   "id": "0f494633-6989-4c0b-8d34-0975db65ea28",
   "metadata": {},
   "outputs": [
    {
     "name": "stdout",
     "output_type": "stream",
     "text": [
      "<class 'pandas.core.frame.DataFrame'>\n",
      "Int64Index: 3187346 entries, 0 to 7297926\n",
      "Data columns (total 7 columns):\n",
      " #   Column     Dtype         \n",
      "---  ------     -----         \n",
      " 0   date       datetime64[ns]\n",
      " 1   prmtype    object        \n",
      " 2   latitude   float64       \n",
      " 3   longitude  float64       \n",
      " 4   timedecay  float64       \n",
      " 5   neigh      object        \n",
      " 6   zip        int32         \n",
      "dtypes: datetime64[ns](1), float64(3), int32(1), object(2)\n",
      "memory usage: 182.4+ MB\n"
     ]
    }
   ],
   "source": [
    "crime_clean = crime_gpd[['date', 'prmtype', 'latitude', 'longitude',\n",
    "                         'timedecay', 'pri_neigh', 'zip']]\\\n",
    "                       .rename(columns={'pri_neigh':'neigh'})\n",
    "\n",
    "crime_clean['zip'] = crime_clean.zip.astype('int32')\n",
    "crime_clean.info()"
   ]
  },
  {
   "cell_type": "markdown",
   "id": "4d33e2bd-1b9c-47cc-a290-ee064007190b",
   "metadata": {},
   "source": [
    "----\n",
    "#### Population by Zip-Code\n",
    "Most recent data on Chicago population is from the 2010 census block which was also downloaded from [Chicago Data Portal](https://data.cityofchicago.org/Facilities-Geographic-Boundaries/Population-by-2010-Census-Block/5yjb-v3mj). The `population.csv` file provided here is the trimmed version of this data to include only `ZipCode` and `Adult Population` features."
   ]
  },
  {
   "cell_type": "code",
   "execution_count": 10,
   "id": "b461de4e-87f7-4bcf-99d1-7e0615c531e3",
   "metadata": {},
   "outputs": [
    {
     "name": "stdout",
     "output_type": "stream",
     "text": [
      "<class 'pandas.core.frame.DataFrame'>\n",
      "Int64Index: 3187346 entries, 0 to 3187345\n",
      "Data columns (total 8 columns):\n",
      " #   Column            Dtype         \n",
      "---  ------            -----         \n",
      " 0   date              datetime64[ns]\n",
      " 1   prmtype           object        \n",
      " 2   latitude          float64       \n",
      " 3   longitude         float64       \n",
      " 4   timedecay         float64       \n",
      " 5   neigh             object        \n",
      " 6   zip               int32         \n",
      " 7   Adult Population  int64         \n",
      "dtypes: datetime64[ns](1), float64(3), int32(1), int64(1), object(2)\n",
      "memory usage: 206.7+ MB\n"
     ]
    }
   ],
   "source": [
    "pop_zip = pd.read_csv('population.csv').rename(columns={'ZipCode': 'zip'})\n",
    "\n",
    "crime_clean = crime_clean.merge(pop_zip, how='left', on='zip')\n",
    "crime_clean.info()"
   ]
  },
  {
   "cell_type": "markdown",
   "id": "092b66a4-33ce-4a14-9786-bd2123eddd05",
   "metadata": {},
   "source": [
    "#### Crime Score Based on Crime Severity Rank and Time Decay Factor"
   ]
  },
  {
   "cell_type": "code",
   "execution_count": 11,
   "id": "cdfcbbae-a067-4495-bbec-a17cf8322033",
   "metadata": {},
   "outputs": [],
   "source": [
    "crime_rank = pd.read_csv('crime_rank.csv')\n",
    "crime_clean = crime_clean.merge(crime_rank, how= 'left', on='prmtype')"
   ]
  },
  {
   "cell_type": "code",
   "execution_count": 12,
   "id": "b091fd37-e75a-43a6-95dd-edf4cc23d6ae",
   "metadata": {},
   "outputs": [],
   "source": [
    "crime_clean['cscore'] = np.around(crime_clean['Rank'] * crime_clean['timedecay'], decimals=4)\n",
    "crime_clean = crime_clean.drop(columns=['Rank', 'timedecay'])"
   ]
  },
  {
   "cell_type": "code",
   "execution_count": 13,
   "id": "52e0d384-d5ab-4fd5-a1ff-6d3c2abcd6da",
   "metadata": {},
   "outputs": [
    {
     "name": "stdout",
     "output_type": "stream",
     "text": [
      "<class 'pandas.core.frame.DataFrame'>\n",
      "Int64Index: 3187346 entries, 0 to 3187345\n",
      "Data columns (total 8 columns):\n",
      " #   Column            Dtype         \n",
      "---  ------            -----         \n",
      " 0   date              datetime64[ns]\n",
      " 1   prmtype           object        \n",
      " 2   latitude          float64       \n",
      " 3   longitude         float64       \n",
      " 4   neigh             object        \n",
      " 5   zip               int32         \n",
      " 6   Adult Population  int64         \n",
      " 7   cscore            float64       \n",
      "dtypes: datetime64[ns](1), float64(3), int32(1), int64(1), object(2)\n",
      "memory usage: 206.7+ MB\n"
     ]
    }
   ],
   "source": [
    "crime_clean.info()"
   ]
  },
  {
   "cell_type": "markdown",
   "id": "6ed4d1dc-d96d-4217-bab9-44f24ec8359d",
   "metadata": {},
   "source": [
    "----\n",
    "#### Crime Score Adjusted By Population\n",
    "Crime Score `cscore` is summed by (Neighborhood, Zip-Code) key to be adjusted by population as `CSperCapita`."
   ]
  },
  {
   "cell_type": "code",
   "execution_count": 14,
   "id": "a98ccb0e-ef52-4fd1-8534-f706e1ddbc33",
   "metadata": {
    "tags": []
   },
   "outputs": [],
   "source": [
    "crime_clean = crime_clean.merge(crime_clean.groupby(['neigh','zip'], as_index=False)['cscore']\\\n",
    "                                           .agg('sum'), how='left', on = ['neigh','zip'])\n",
    "                         "
   ]
  },
  {
   "cell_type": "code",
   "execution_count": 15,
   "id": "e0ff8c74",
   "metadata": {},
   "outputs": [
    {
     "name": "stdout",
     "output_type": "stream",
     "text": [
      "<class 'pandas.core.frame.DataFrame'>\n",
      "Int64Index: 3187346 entries, 0 to 3187345\n",
      "Data columns (total 10 columns):\n",
      " #   Column            Dtype         \n",
      "---  ------            -----         \n",
      " 0   date              datetime64[ns]\n",
      " 1   prmtype           object        \n",
      " 2   latitude          float64       \n",
      " 3   longitude         float64       \n",
      " 4   neigh             object        \n",
      " 5   zip               int32         \n",
      " 6   Adult Population  int64         \n",
      " 7   cscore_x          float64       \n",
      " 8   cscore_y          float64       \n",
      " 9   CSperCapita       float64       \n",
      "dtypes: datetime64[ns](1), float64(5), int32(1), int64(1), object(2)\n",
      "memory usage: 255.3+ MB\n"
     ]
    }
   ],
   "source": [
    "crime_clean['CSperCapita'] = np.divide(crime_clean['cscore_y'],\n",
    "                                       crime_clean['Adult Population'])\\\n",
    "                               .replace(np.inf, 0)"
   ]
  },
  {
   "cell_type": "markdown",
   "id": "b09a97ea-7153-4d53-b50c-53fb05a1de32",
   "metadata": {},
   "source": [
    "----\n",
    "##### Final Touches and Write File"
   ]
  },
  {
   "cell_type": "code",
   "execution_count": 16,
   "id": "9dae5429-63c7-4d8a-9e18-ce77cd491eb8",
   "metadata": {},
   "outputs": [],
   "source": [
    "crime_clean['Year'] = crime_clean.date.dt.strftime('%Y')\n",
    "crime_clean['Month'] = crime_clean.date.dt.strftime('%m')\n",
    "crime_clean = crime_clean.drop(columns=['date', 'Adult Population'])\\\n",
    "                         .rename(columns={'cscore_x':'Crime Score',\n",
    "                                          'cscore_y':'Neigh Score',\n",
    "                                          'prmtype':'Crime Type',\n",
    "                                          'neigh':'Neighborhood',\n",
    "                                          'zip':'Zip Code'})"
   ]
  },
  {
   "cell_type": "code",
   "execution_count": 17,
   "id": "7ad22715-78e2-452e-af22-bbc99ee22c23",
   "metadata": {},
   "outputs": [
    {
     "name": "stdout",
     "output_type": "stream",
     "text": [
      "<class 'pandas.core.frame.DataFrame'>\n",
      "Int64Index: 3187346 entries, 0 to 3187345\n",
      "Data columns (total 10 columns):\n",
      " #   Column        Dtype  \n",
      "---  ------        -----  \n",
      " 0   Crime Type    object \n",
      " 1   latitude      float64\n",
      " 2   longitude     float64\n",
      " 3   Neighborhood  object \n",
      " 4   Zip Code      int32  \n",
      " 5   Crime Score   float64\n",
      " 6   Neigh Score   float64\n",
      " 7   CSperCapita   float64\n",
      " 8   Year          object \n",
      " 9   Month         object \n",
      "dtypes: float64(5), int32(1), object(4)\n",
      "memory usage: 335.3+ MB\n"
     ]
    }
   ],
   "source": [
    "crime_clean.info()"
   ]
  },
  {
   "cell_type": "code",
   "execution_count": 18,
   "id": "8a9be73f",
   "metadata": {},
   "outputs": [],
   "source": [
    "crime_clean.to_csv('crime-clean.csv', index=False)"
   ]
  }
 ],
 "metadata": {
  "kernelspec": {
   "display_name": "Python [conda env:rapids]",
   "language": "python",
   "name": "conda-env-rapids-py"
  },
  "language_info": {
   "codemirror_mode": {
    "name": "ipython",
    "version": 3
   },
   "file_extension": ".py",
   "mimetype": "text/x-python",
   "name": "python",
   "nbconvert_exporter": "python",
   "pygments_lexer": "ipython3",
   "version": "3.8.8"
  }
 },
 "nbformat": 4,
 "nbformat_minor": 5
}
