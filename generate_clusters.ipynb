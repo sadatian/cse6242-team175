{
 "cells": [
  {
   "cell_type": "code",
   "execution_count": 1,
   "id": "575114fb-bc4b-4ae6-9759-4454ddda6418",
   "metadata": {},
   "outputs": [],
   "source": [
    "import pickle\n",
    "from crime_clustering import CrimeCluster\n",
    "import pandas as pd\n",
    "import json"
   ]
  },
  {
   "cell_type": "code",
   "execution_count": 2,
   "id": "0c9e9671-e374-4d95-9aa6-6c64bfbbdd23",
   "metadata": {},
   "outputs": [],
   "source": [
    "df = pd.read_csv('data/crime-clean.csv')\n",
    "df = df[(df['Year'] < 2021)]"
   ]
  },
  {
   "cell_type": "code",
   "execution_count": 3,
   "id": "7c3420dd-9e09-40c5-8c7d-df91dc2f8fb5",
   "metadata": {},
   "outputs": [],
   "source": [
    "with open('data/geo/Neighborhoods.geojson') as Neigh:\n",
    "    geodict = {'json_neigh': json.load(Neigh)}"
   ]
  },
  {
   "cell_type": "code",
   "execution_count": 4,
   "id": "bd1326b5-a601-481b-bfb4-4eafffa156f1",
   "metadata": {},
   "outputs": [],
   "source": [
    "with open('data/geo/ZIP.geojson') as ZIP22:\n",
    "    geodict['json_zip'] = json.load(ZIP22)"
   ]
  },
  {
   "cell_type": "code",
   "execution_count": 5,
   "id": "b7049e58-be69-4c38-8d20-7472cc20c0fd",
   "metadata": {},
   "outputs": [],
   "source": [
    "cCluster = CrimeCluster(df, geodict['json_neigh'], geodict['json_zip'])"
   ]
  },
  {
   "cell_type": "code",
   "execution_count": 6,
   "id": "2f814c1e-5e9d-4512-bba2-073c30f24dca",
   "metadata": {},
   "outputs": [],
   "source": [
    "crime_types = ['ALL'] + list(df['Crime Type'].unique())"
   ]
  },
  {
   "cell_type": "code",
   "execution_count": 7,
   "id": "2c317369-360d-4140-ad30-b32dfcbb7619",
   "metadata": {},
   "outputs": [
    {
     "data": {
      "text/plain": [
       "['ALL',\n",
       " 'BATTERY',\n",
       " 'THEFT',\n",
       " 'PUBLIC PEACE VIOLATION',\n",
       " 'BURGLARY',\n",
       " 'ROBBERY',\n",
       " 'OTHER OFFENSE',\n",
       " 'MOTOR VEHICLE THEFT',\n",
       " 'NARCOTICS',\n",
       " 'CRIMINAL DAMAGE',\n",
       " 'ASSAULT',\n",
       " 'WEAPONS VIOLATION',\n",
       " 'CRIMINAL TRESPASS',\n",
       " 'DECEPTIVE PRACTICE',\n",
       " 'STALKING',\n",
       " 'OFFENSE INVOLVING CHILDREN',\n",
       " 'LIQUOR LAW VIOLATION',\n",
       " 'INTERFERENCE WITH PUBLIC OFFICER',\n",
       " 'SEX OFFENSE',\n",
       " 'CRIM SEXUAL ASSAULT',\n",
       " 'PROSTITUTION',\n",
       " 'ARSON',\n",
       " 'GAMBLING',\n",
       " 'KIDNAPPING',\n",
       " 'INTIMIDATION',\n",
       " 'OTHER NARCOTIC VIOLATION',\n",
       " 'OBSCENITY',\n",
       " 'PUBLIC INDECENCY',\n",
       " 'CRIMINAL SEXUAL ASSAULT',\n",
       " 'NON-CRIMINAL',\n",
       " 'CONCEALED CARRY LICENSE VIOLATION',\n",
       " 'HOMICIDE',\n",
       " 'NON-CRIMINAL (SUBJECT SPECIFIED)',\n",
       " 'NON - CRIMINAL',\n",
       " 'HUMAN TRAFFICKING',\n",
       " 'RITUALISM']"
      ]
     },
     "execution_count": 7,
     "metadata": {},
     "output_type": "execute_result"
    }
   ],
   "source": [
    "crime_types"
   ]
  },
  {
   "cell_type": "code",
   "execution_count": 8,
   "id": "7078740b-39b9-4d94-a430-c6596b934f22",
   "metadata": {},
   "outputs": [],
   "source": [
    "cluster_data = {\n",
    "    'Crime Type': [],\n",
    "    'num centers': [],\n",
    "    'centers': [],\n",
    "    'covariances': [],\n",
    "    'Successful': []\n",
    "}"
   ]
  },
  {
   "cell_type": "code",
   "execution_count": 9,
   "id": "ebc28ec6-405b-40cb-95dc-947fa180678d",
   "metadata": {},
   "outputs": [
    {
     "name": "stdout",
     "output_type": "stream",
     "text": [
      "ALL\n",
      "BATTERY\n",
      "THEFT\n",
      "PUBLIC PEACE VIOLATION\n",
      "BURGLARY\n",
      "ROBBERY\n",
      "OTHER OFFENSE\n",
      "MOTOR VEHICLE THEFT\n",
      "NARCOTICS\n",
      "CRIMINAL DAMAGE\n",
      "ASSAULT\n",
      "WEAPONS VIOLATION\n",
      "CRIMINAL TRESPASS\n",
      "DECEPTIVE PRACTICE\n",
      "STALKING\n",
      "OFFENSE INVOLVING CHILDREN\n",
      "LIQUOR LAW VIOLATION\n",
      "INTERFERENCE WITH PUBLIC OFFICER\n",
      "SEX OFFENSE\n",
      "CRIM SEXUAL ASSAULT\n",
      "PROSTITUTION\n",
      "ARSON\n",
      "GAMBLING\n",
      "KIDNAPPING\n",
      "INTIMIDATION\n",
      "OTHER NARCOTIC VIOLATION\n",
      "OBSCENITY\n",
      "PUBLIC INDECENCY\n",
      "CRIMINAL SEXUAL ASSAULT\n",
      "NON-CRIMINAL\n",
      "CONCEALED CARRY LICENSE VIOLATION\n",
      "HOMICIDE\n",
      "NON-CRIMINAL (SUBJECT SPECIFIED)\n",
      "NON - CRIMINAL\n",
      "HUMAN TRAFFICKING\n",
      "RITUALISM\n"
     ]
    }
   ],
   "source": [
    "for crime in crime_types:\n",
    "    print(crime)\n",
    "    try:\n",
    "        gmm_data = cCluster.GMM_Chicago(crime)\n",
    "        cluster_data['Crime Type'].append(crime)\n",
    "        cluster_data['num centers'].append(gmm_data[0])\n",
    "        cluster_data['centers'].append(gmm_data[1])\n",
    "        cluster_data['covariances'].append(gmm_data[2])\n",
    "        cluster_data['Successful'].append(True)\n",
    "    except ValueError:\n",
    "        cluster_data['Crime Type'].append(crime)\n",
    "        cluster_data['num centers'].append(None)\n",
    "        cluster_data['centers'].append(None)\n",
    "        cluster_data['covariances'].append(None)\n",
    "        cluster_data['Successful'].append(False)"
   ]
  },
  {
   "cell_type": "code",
   "execution_count": 10,
   "id": "ba7b9c26-813f-46bc-bc8a-3f608e815b2b",
   "metadata": {},
   "outputs": [],
   "source": [
    "with open('data/clusters/chicago/crime_types_clusters.pickle', 'wb') as handle:\n",
    "    pickle.dump(cluster_data, handle, protocol=pickle.HIGHEST_PROTOCOL)"
   ]
  },
  {
   "cell_type": "code",
   "execution_count": 11,
   "id": "470ba38a-240d-4d0d-be31-e0a6258dcf41",
   "metadata": {},
   "outputs": [],
   "source": [
    "with open('data/clusters/chicago/crime_types_clusters.pickle', 'rb') as handle:\n",
    "    data = pickle.load(handle)"
   ]
  },
  {
   "cell_type": "code",
   "execution_count": 12,
   "id": "fec97bb5-d44b-4d97-a2ff-cd6eb1080844",
   "metadata": {},
   "outputs": [],
   "source": [
    "df = pd.DataFrame.from_dict(data)"
   ]
  },
  {
   "cell_type": "code",
   "execution_count": 13,
   "id": "fa6ba343-43e4-49bf-89ca-e2f5a810489a",
   "metadata": {},
   "outputs": [
    {
     "data": {
      "text/html": [
       "<div>\n",
       "<style scoped>\n",
       "    .dataframe tbody tr th:only-of-type {\n",
       "        vertical-align: middle;\n",
       "    }\n",
       "\n",
       "    .dataframe tbody tr th {\n",
       "        vertical-align: top;\n",
       "    }\n",
       "\n",
       "    .dataframe thead th {\n",
       "        text-align: right;\n",
       "    }\n",
       "</style>\n",
       "<table border=\"1\" class=\"dataframe\">\n",
       "  <thead>\n",
       "    <tr style=\"text-align: right;\">\n",
       "      <th></th>\n",
       "      <th>Crime Type</th>\n",
       "      <th>num centers</th>\n",
       "      <th>centers</th>\n",
       "      <th>covariances</th>\n",
       "      <th>Successful</th>\n",
       "    </tr>\n",
       "  </thead>\n",
       "  <tbody>\n",
       "    <tr>\n",
       "      <th>0</th>\n",
       "      <td>ALL</td>\n",
       "      <td>3.0</td>\n",
       "      <td>[[41.91711227863076, -87.68435037388016], [41....</td>\n",
       "      <td>[[[0.002331452306958472, -0.000919354105798237...</td>\n",
       "      <td>True</td>\n",
       "    </tr>\n",
       "    <tr>\n",
       "      <th>1</th>\n",
       "      <td>BATTERY</td>\n",
       "      <td>3.0</td>\n",
       "      <td>[[41.74370059308402, -87.61236831426683], [41....</td>\n",
       "      <td>[[[0.0014780444723145117, -6.310274189314449e-...</td>\n",
       "      <td>True</td>\n",
       "    </tr>\n",
       "    <tr>\n",
       "      <th>2</th>\n",
       "      <td>THEFT</td>\n",
       "      <td>3.0</td>\n",
       "      <td>[[41.91090539478702, -87.70717608929465], [41....</td>\n",
       "      <td>[[[0.001825855961936727, -0.000816415207915068...</td>\n",
       "      <td>True</td>\n",
       "    </tr>\n",
       "    <tr>\n",
       "      <th>3</th>\n",
       "      <td>PUBLIC PEACE VIOLATION</td>\n",
       "      <td>3.0</td>\n",
       "      <td>[[41.83833037485503, -87.68785686693771], [41....</td>\n",
       "      <td>[[[0.002824335771503128, -0.000375614913996201...</td>\n",
       "      <td>True</td>\n",
       "    </tr>\n",
       "    <tr>\n",
       "      <th>4</th>\n",
       "      <td>BURGLARY</td>\n",
       "      <td>3.0</td>\n",
       "      <td>[[41.741514279389456, -87.61156340980443], [41...</td>\n",
       "      <td>[[[0.0014202456001993914, 0.000116370230504126...</td>\n",
       "      <td>True</td>\n",
       "    </tr>\n",
       "  </tbody>\n",
       "</table>\n",
       "</div>"
      ],
      "text/plain": [
       "               Crime Type  num centers  \\\n",
       "0                     ALL          3.0   \n",
       "1                 BATTERY          3.0   \n",
       "2                   THEFT          3.0   \n",
       "3  PUBLIC PEACE VIOLATION          3.0   \n",
       "4                BURGLARY          3.0   \n",
       "\n",
       "                                             centers  \\\n",
       "0  [[41.91711227863076, -87.68435037388016], [41....   \n",
       "1  [[41.74370059308402, -87.61236831426683], [41....   \n",
       "2  [[41.91090539478702, -87.70717608929465], [41....   \n",
       "3  [[41.83833037485503, -87.68785686693771], [41....   \n",
       "4  [[41.741514279389456, -87.61156340980443], [41...   \n",
       "\n",
       "                                         covariances  Successful  \n",
       "0  [[[0.002331452306958472, -0.000919354105798237...        True  \n",
       "1  [[[0.0014780444723145117, -6.310274189314449e-...        True  \n",
       "2  [[[0.001825855961936727, -0.000816415207915068...        True  \n",
       "3  [[[0.002824335771503128, -0.000375614913996201...        True  \n",
       "4  [[[0.0014202456001993914, 0.000116370230504126...        True  "
      ]
     },
     "execution_count": 13,
     "metadata": {},
     "output_type": "execute_result"
    }
   ],
   "source": [
    "df.head()"
   ]
  },
  {
   "cell_type": "code",
   "execution_count": null,
   "id": "68f0eed6-cf7c-4690-861d-4c058cc6c772",
   "metadata": {},
   "outputs": [],
   "source": []
  }
 ],
 "metadata": {
  "kernelspec": {
   "display_name": "Python 3",
   "language": "python",
   "name": "python3"
  },
  "language_info": {
   "codemirror_mode": {
    "name": "ipython",
    "version": 3
   },
   "file_extension": ".py",
   "mimetype": "text/x-python",
   "name": "python",
   "nbconvert_exporter": "python",
   "pygments_lexer": "ipython3",
   "version": "3.9.2"
  }
 },
 "nbformat": 4,
 "nbformat_minor": 5
}
