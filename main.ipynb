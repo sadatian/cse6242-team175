{
 "cells": [
  {
   "cell_type": "code",
   "execution_count": null,
   "metadata": {
    "id": "URu329msXHfL",
    "tags": []
   },
   "outputs": [],
   "source": [
    "# pip install geopandas dash\n",
    "# pip install jupyter-dash"
   ]
  },
  {
   "cell_type": "code",
   "execution_count": null,
   "metadata": {
    "id": "opposed-laugh"
   },
   "outputs": [],
   "source": [
    "import pandas as pd\n",
    "# import geopandas as gpd\n",
    "# import cudf\n",
    "import numpy as np\n",
    "\n",
    "import plotly.express as px\n",
    "import plotly.graph_objects as go\n",
    "from jupyter_dash import JupyterDash\n",
    "import dash\n",
    "import dash_core_components as dcc\n",
    "import dash_html_components as html\n",
    "from dash.dependencies import Input, Output, State\n",
    "import json\n",
    "from geopy.geocoders import Nominatim\n",
    "from crime_clustering import CrimeCluster\n",
    "from geopy.distance import great_circle\n",
    "import pickle5 as pickle\n",
    "from sklearn.linear_model import LinearRegression\n",
    "import base64\n",
    "from zillowscraper import address_to_price_and_image\n",
    "import requests"
   ]
  },
  {
   "cell_type": "code",
   "execution_count": null,
   "metadata": {},
   "outputs": [],
   "source": [
    "mapbox_token = open('tokens/mapbox-token.txt').read()\n",
    "px.set_mapbox_access_token(mapbox_token)"
   ]
  },
  {
   "cell_type": "code",
   "execution_count": null,
   "metadata": {
    "id": "creative-casting"
   },
   "outputs": [],
   "source": [
    "df = pd.read_csv('data/crime-clean.csv')\n",
    "df = df[(df['Year'] < 2021)]"
   ]
  },
  {
   "cell_type": "code",
   "execution_count": null,
   "metadata": {
    "colab": {
     "base_uri": "https://localhost:8080/",
     "height": 656
    },
    "id": "ekzJGPx4eoI8",
    "outputId": "f09fcb95-10d9-4ad4-a74a-28a650a3d253"
   },
   "outputs": [],
   "source": [
    "df.sample(15)"
   ]
  },
  {
   "cell_type": "code",
   "execution_count": null,
   "metadata": {
    "colab": {
     "base_uri": "https://localhost:8080/"
    },
    "id": "9k1noADHfkaq",
    "outputId": "4ddd0fca-adfb-4f3c-fa23-d44262ae44f6"
   },
   "outputs": [],
   "source": [
    "df.info()"
   ]
  },
  {
   "cell_type": "code",
   "execution_count": null,
   "metadata": {},
   "outputs": [],
   "source": [
    "all_crimes = 'ALL'"
   ]
  },
  {
   "cell_type": "code",
   "execution_count": null,
   "metadata": {},
   "outputs": [],
   "source": [
    "def crime_score(location_column):\n",
    "    \n",
    "    group = [location_column]\n",
    "    group_type = ['Crime Type', location_column]\n",
    "     \n",
    "    df_location = df.groupby(group, as_index=False).agg({'Crime Score': 'mean', 'CSperCapita': 'mean'})\n",
    "    df_location['Crime Type'] = all_crimes\n",
    "    \n",
    "    df_location_type = df.groupby(group_type, as_index=False).agg({'Crime Score': 'mean', 'CSperCapita': 'mean'})\n",
    "    \n",
    "    df_location_all = pd.concat([df_location, df_location_type], axis=0)\n",
    "    \n",
    "    return df_location_all"
   ]
  },
  {
   "cell_type": "code",
   "execution_count": null,
   "metadata": {},
   "outputs": [],
   "source": [
    "df_neigh = crime_score('Neighborhood')\n",
    "df_neigh.head()"
   ]
  },
  {
   "cell_type": "code",
   "execution_count": null,
   "metadata": {},
   "outputs": [],
   "source": [
    "df_zip = crime_score('Zip Code')\n",
    "df_zip.head()"
   ]
  },
  {
   "cell_type": "code",
   "execution_count": null,
   "metadata": {},
   "outputs": [],
   "source": [
    "# df_neigh = df.groupby(['Neighborhood'], as_index=False).agg({'Crime Score': 'mean', 'CSperCapita': 'mean'})\n",
    "# df_neigh.head()"
   ]
  },
  {
   "cell_type": "code",
   "execution_count": null,
   "metadata": {},
   "outputs": [],
   "source": [
    "# df_zip = df.groupby(['Zip Code'], as_index=False).agg({'Crime Score': 'mean', 'CSperCapita': 'mean'})\n",
    "# df_zip.head()"
   ]
  },
  {
   "cell_type": "code",
   "execution_count": null,
   "metadata": {},
   "outputs": [],
   "source": [
    "def agg_crime(location_column=None):\n",
    "    \n",
    "    if location_column is None:\n",
    "        group = ['Year']\n",
    "        group_type = ['Crime Type', 'Year']\n",
    "    else:\n",
    "        group = ['Year', location_column]\n",
    "        group_type = ['Crime Type' , 'Year', location_column]\n",
    "    \n",
    "    df_location = df.groupby(group, as_index=False)\\\n",
    "                        .agg({'Latitude': 'count'}).rename(columns={'Latitude': 'Count'})\n",
    "    df_location['Crime Type'] = all_crimes\n",
    "    df_location_type = df.groupby(group_type, as_index=False)\\\n",
    "                            .agg({'Latitude': 'count'}).rename(columns={'Latitude': 'Count'})\n",
    "    df_location_all = pd.concat([df_location, df_location_type], axis=0)\n",
    "    return df_location_all"
   ]
  },
  {
   "cell_type": "code",
   "execution_count": null,
   "metadata": {},
   "outputs": [],
   "source": [
    "df_crime_chicago = agg_crime()\n",
    "df_crime_chicago.head()"
   ]
  },
  {
   "cell_type": "code",
   "execution_count": null,
   "metadata": {},
   "outputs": [],
   "source": [
    "df_crime_neigh = agg_crime('Neighborhood')\n",
    "df_crime_neigh.head()"
   ]
  },
  {
   "cell_type": "code",
   "execution_count": null,
   "metadata": {},
   "outputs": [],
   "source": [
    "df_crime_zip = agg_crime('Zip Code')\n",
    "df_crime_zip.head()"
   ]
  },
  {
   "cell_type": "code",
   "execution_count": null,
   "metadata": {
    "id": "preliminary-kitchen"
   },
   "outputs": [],
   "source": [
    "with open('data/geo/Neighborhoods.geojson') as Neigh:\n",
    "    geodict = {'json_neigh': json.load(Neigh)}"
   ]
  },
  {
   "cell_type": "code",
   "execution_count": null,
   "metadata": {
    "id": "offshore-signature"
   },
   "outputs": [],
   "source": [
    "with open('data/geo/ZIP.geojson') as ZIP22:\n",
    "    geodict['json_zip'] = json.load(ZIP22)"
   ]
  },
  {
   "cell_type": "code",
   "execution_count": null,
   "metadata": {},
   "outputs": [],
   "source": [
    "cCluster = CrimeCluster(df, geodict['json_neigh'], geodict['json_zip'])"
   ]
  },
  {
   "cell_type": "code",
   "execution_count": null,
   "metadata": {},
   "outputs": [],
   "source": [
    "crime_types = [all_crimes] + list(df['Crime Type'].unique())"
   ]
  },
  {
   "cell_type": "code",
   "execution_count": null,
   "metadata": {},
   "outputs": [],
   "source": [
    "with open('data/clusters/chicago/crime_types_clusters.pickle', 'rb') as handle:\n",
    "    chicago_cluster_data = pickle.load(handle)"
   ]
  },
  {
   "cell_type": "code",
   "execution_count": null,
   "metadata": {},
   "outputs": [],
   "source": [
    "df_chicago_clusters = pd.DataFrame.from_dict(chicago_cluster_data)"
   ]
  },
  {
   "cell_type": "code",
   "execution_count": null,
   "metadata": {},
   "outputs": [],
   "source": [
    "# crime_types"
   ]
  },
  {
   "cell_type": "code",
   "execution_count": null,
   "metadata": {
    "id": "q4SI7YeFfXRU"
   },
   "outputs": [],
   "source": [
    "external_stylesheets = ['https://codepen.io/chriddyp/pen/bWLwgP.css']\n",
    "# css documentation at https://codepen.io/chriddyp/pen/bWLwgP\n",
    "\n",
    "app = dash.Dash(__name__, external_stylesheets=external_stylesheets)\n",
    "# app = JupyterDash(__name__, external_stylesheets=external_stylesheets)"
   ]
  },
  {
   "cell_type": "code",
   "execution_count": null,
   "metadata": {},
   "outputs": [],
   "source": [
    "def src_image(src, URL=False):\n",
    "    if not URL:\n",
    "        encoded = base64.b64encode(open(src, 'rb').read())\n",
    "    else:\n",
    "        encoded = base64.b64encode(requests.get(src).content)\n",
    "    return 'data:image/png;base64,{}'.format(encoded.decode())"
   ]
  },
  {
   "cell_type": "code",
   "execution_count": null,
   "metadata": {},
   "outputs": [],
   "source": [
    "form_address = html.Div(children=[\n",
    "    html.Div(\n",
    "        className='row',\n",
    "        children = [\n",
    "            html.Div(\n",
    "                className='six columns',\n",
    "                children = [\n",
    "                    html.Label(\"Address\", htmlFor=\"input-address\", id=\"label-address\"),\n",
    "                    dcc.Input(id=\"input-address\", type=\"search\", placeholder=\"Address\", className='u-full-width')\n",
    "                ]\n",
    "            ),\n",
    "            html.Div(\n",
    "                className='six columns',\n",
    "                children = [\n",
    "                    html.Label(\"Miles\", htmlFor='input-miles', id='label-miles'),\n",
    "                    dcc.Input(id='input-miles', type='number', value=1, className='u-full-width')\n",
    "                ]\n",
    "            )\n",
    "        ]\n",
    "    ),\n",
    "    html.Div(\n",
    "        className='row',\n",
    "        children=[\n",
    "            html.Button('Submit', id='btn-submit-address', className='button-primary', style={'margin-top': '10px'})\n",
    "        ]\n",
    "    )\n",
    "])"
   ]
  },
  {
   "cell_type": "code",
   "execution_count": null,
   "metadata": {},
   "outputs": [],
   "source": [
    "form_chart_options = html.Div(children=[\n",
    "    html.Div(\n",
    "        className='row',\n",
    "        children=[\n",
    "            html.Div(\n",
    "                className='six columns',\n",
    "                children=[\n",
    "                    html.Label(\"Crime Type\", htmlFor='crime-types', id='label-crime-types'),\n",
    "                    dcc.Dropdown(id='crime-types', className='u-full-width',\n",
    "                        options = [\n",
    "                            {'label': i, 'value': i} for i in crime_types\n",
    "                        ],\n",
    "                        value = 'ALL')\n",
    "                ]\n",
    "            )\n",
    "        ]\n",
    "    ),\n",
    "    html.Div(\n",
    "        className='row',\n",
    "        children = [\n",
    "            dcc.RadioItems(id='location-select',\n",
    "                options = [{'label': i, 'value': i} for i in ['Neighborhood', 'Zip Code']],\n",
    "                value = 'Neighborhood',\n",
    "                labelStyle = {'display': 'inline-block'})\n",
    "        ]\n",
    "    )\n",
    "])"
   ]
  },
  {
   "cell_type": "code",
   "execution_count": null,
   "metadata": {},
   "outputs": [],
   "source": [
    "html_zillow = html.Div(\n",
    "    children=[\n",
    "        html.Div(\n",
    "            id='house-image',\n",
    "            children=[],\n",
    "            style={'height': 211}\n",
    "        ),\n",
    "        html.Div(id='price', children=[])\n",
    "    ]\n",
    ")"
   ]
  },
  {
   "cell_type": "code",
   "execution_count": null,
   "metadata": {
    "id": "q4SI7YeFfXRU"
   },
   "outputs": [],
   "source": [
    "app.layout = html.Div([\n",
    "    html.Div(\n",
    "        className=\"row\",\n",
    "        children = [\n",
    "            html.H1(\"Chicago Crime & Real Estate\", style={'text-align': 'center'})\n",
    "        ]\n",
    "    ),\n",
    "    html.Div(\n",
    "        className=\"row\",\n",
    "        children = [\n",
    "            html.Div(\n",
    "                className=\"six columns\",\n",
    "                children = [\n",
    "                    form_address,\n",
    "                    html.Br(),\n",
    "                    form_chart_options,\n",
    "                    dcc.Graph(id='chicago-map')\n",
    "                ]\n",
    "            ),\n",
    "            html.Div(\n",
    "                className=\"six columns\",\n",
    "                children = [\n",
    "                    html_zillow,\n",
    "                    dcc.Graph(id='crime-chart'),\n",
    "                    dcc.Graph(id='crime-cluster-map')\n",
    "                ]\n",
    "            )\n",
    "        ]\n",
    "    ),\n",
    "    html.Div(\n",
    "        id='meta-data',\n",
    "        className='row',\n",
    "        children=[\n",
    "            html.Div(id='crime-clusters', style={'display': 'none'}),\n",
    "            html.Div(id='callback-data', style={'display': 'none'})\n",
    "        ]\n",
    "    )\n",
    "])"
   ]
  },
  {
   "cell_type": "code",
   "execution_count": null,
   "metadata": {
    "id": "q4SI7YeFfXRU"
   },
   "outputs": [],
   "source": [
    "@app.callback(\n",
    "    Output('chicago-map', 'figure'),\n",
    "    [Input('location-select', 'value'),\n",
    "    Input('crime-types', 'value')]\n",
    ")\n",
    "def update_chicago_map(value, crime_type):\n",
    "\n",
    "    if value == 'Neighborhood':\n",
    "        data_frame = df_neigh[df_neigh['Crime Type'] == crime_type]\n",
    "        locations = 'Neighborhood'\n",
    "        geojson = geodict['json_neigh']\n",
    "        featureidkey = 'properties.pri_neigh'\n",
    "    else:\n",
    "        data_frame = df_zip[df_zip['Crime Type'] == crime_type]\n",
    "        locations = 'Zip Code'\n",
    "        geojson = geodict['json_zip']\n",
    "        featureidkey = 'properties.zip'\n",
    "\n",
    "    fig = px.choropleth_mapbox(\n",
    "        data_frame = data_frame,\n",
    "        locations = locations,\n",
    "        geojson = geojson,\n",
    "        featureidkey = featureidkey,\n",
    "        mapbox_style = 'carto-positron',\n",
    "        color = 'Crime Score',\n",
    "        center = {'lat': 41.84, 'lon': -87.6298},\n",
    "        zoom = 9,\n",
    "        opacity = 0.5,\n",
    "        labels = {'Weighted Score': 'CSperCapita'},\n",
    "        height=800)\n",
    "\n",
    "    fig.update_layout(margin={\"r\": 0, \"t\": 0, \"l\": 0, \"b\": 0})\n",
    "\n",
    "    return fig"
   ]
  },
  {
   "cell_type": "code",
   "execution_count": null,
   "metadata": {},
   "outputs": [],
   "source": [
    "def ellipses(means, covariances, n_per_cluster=None):\n",
    "    ellipse_layers = []\n",
    "    if n_per_cluster is None:\n",
    "        n_per_cluster = np.ones(covariances.shape[0])\n",
    "    else:\n",
    "        max_crimes = np.max(n_per_cluster)\n",
    "        n_per_cluster /= max_crimes\n",
    "        n_per_cluster[n_per_cluster < 0.25] = 0.25\n",
    "    t = np.linspace(0, 2*np.pi, 20)\n",
    "    for i in range(covariances.shape[0]):\n",
    "        covariance_matrix = covariances[i]\n",
    "        center_x, center_y = means.lon[i], means.lat[i]\n",
    "        opacity_scale = n_per_cluster[i]\n",
    "        v, w = np.linalg.eigh(covariance_matrix)\n",
    "        u = w[0] / np.linalg.norm(w[0])\n",
    "        shift_angle = np.arctan2(u[1], u[0])\n",
    "        v = 2. * np.sqrt(2.) * np.sqrt(v)\n",
    "        a = v[0]\n",
    "        b = v[1]\n",
    "        for i in range(40):\n",
    "            scale_factor = i / 40\n",
    "            x = center_x + a * b / np.sqrt((b * np.cos(t))**2 + (a * np.sin(t))**2) * np.sin(t + shift_angle) * scale_factor\n",
    "            y = center_y + a * b / np.sqrt((b * np.cos(t))**2 + (a * np.sin(t))**2) * np.cos(t + shift_angle) * scale_factor\n",
    "            green = 255 * scale_factor\n",
    "            coords=[]\n",
    "            for lon, lat in zip(list(x), list(y)):\n",
    "                coords.append([lon, lat]) \n",
    "            layer = dict(sourcetype = 'geojson',\n",
    "                         source={ \"type\": \"Feature\",\n",
    "                                 \"geometry\": {\"type\": \"LineString\",\n",
    "                                              \"coordinates\": coords\n",
    "                                              }\n",
    "                                },\n",
    "                         color = 'rgb(255,' + str(int(green)) + ', 0)',\n",
    "                         type = 'line',\n",
    "                         below = '',\n",
    "                         opacity = (1 - scale_factor) * opacity_scale,\n",
    "                         line = dict(width=2 * opacity_scale),\n",
    "                        )\n",
    "            ellipse_layers.append(layer)\n",
    "    return ellipse_layers"
   ]
  },
  {
   "cell_type": "code",
   "execution_count": null,
   "metadata": {},
   "outputs": [],
   "source": [
    "def update_data(location, location_type, n_clicks, crime_type):\n",
    "    data = {\n",
    "        'n_clicks': n_clicks,\n",
    "        'Location Type': location_type,\n",
    "        'Location': location,\n",
    "        'Crime Type': crime_type\n",
    "    }\n",
    "    \n",
    "    return data"
   ]
  },
  {
   "cell_type": "code",
   "execution_count": null,
   "metadata": {},
   "outputs": [],
   "source": [
    "def line_chart(df, title):\n",
    "    \n",
    "    df_copy = df.copy()\n",
    "    reg = LinearRegression().fit(df_copy['Year'].values.reshape((-1,1)), df_copy['Count'])\n",
    "    trend = reg.predict(df_copy['Year'].values.reshape((-1,1)))\n",
    "    \n",
    "    dict_trend = {\n",
    "        'Year': df_copy['Year'].to_list(),\n",
    "        'Count': list(trend)\n",
    "    }\n",
    "    \n",
    "    df_trend = pd.DataFrame.from_dict(dict_trend)\n",
    "    \n",
    "    df_copy['Data'] = 'Number of Crimes'\n",
    "    df_trend['Data'] = 'Trend'\n",
    "    \n",
    "    df_copy = pd.concat([df_copy, df_trend], axis=0)\n",
    "    df_copy.rename(columns={'Count': 'Number of Crimes'}, inplace=True)\n",
    "    \n",
    "    fig_chart = px.line(\n",
    "        data_frame = df_copy,\n",
    "        x = 'Year',\n",
    "        y = 'Number of Crimes',\n",
    "        color = 'Data',\n",
    "        title = title\n",
    "    )\n",
    "    \n",
    "    max_count = df_copy['Number of Crimes'].max()\n",
    "    \n",
    "    fig_chart.update_layout(yaxis_range=[0, max_count * 1.1])\n",
    "    \n",
    "    return fig_chart"
   ]
  },
  {
   "cell_type": "code",
   "execution_count": null,
   "metadata": {},
   "outputs": [],
   "source": [
    "def charts_address(address, miles, crime_type):\n",
    "    gmm_data = cCluster.GMM_Address(address, miles, crime_type)\n",
    "    num_centers = gmm_data[0]\n",
    "    df_centers = pd.DataFrame(gmm_data[1], columns=['lat', 'lon'])\n",
    "    covariances = gmm_data[2]\n",
    "    n_per_cluster = gmm_data[4]\n",
    "    location = gmm_data[5]\n",
    "    lat = location.latitude\n",
    "    lon = location.longitude\n",
    "    \n",
    "#     df_centers['size'] = 1\n",
    "    \n",
    "    df_address = pd.DataFrame.from_dict({\n",
    "        'lat': [location.latitude],\n",
    "        'lon': [location.longitude]\n",
    "    })\n",
    "    \n",
    "#     df_address['size'] = 100\n",
    "\n",
    "    fig_map = px.scatter_mapbox(\n",
    "            df_address,\n",
    "            lat='lat',\n",
    "            lon='lon',\n",
    "            zoom=12,\n",
    "            mapbox_style='carto-positron',\n",
    "            size=[3],\n",
    "        )\n",
    "    \n",
    "    ellipse_layers = ellipses(df_centers, covariances, n_per_cluster)\n",
    "#     df_centers = pd.concat([df_centers, df_address], axis=0)\n",
    "#     df_centers.reset_index(drop=True, inplace=True)\n",
    "\n",
    "\n",
    "\n",
    "    fig_map.layout.update(mapbox_layers=ellipse_layers)\n",
    "    \n",
    "    df_crime_filtered = gmm_data[3]\n",
    "    \n",
    "    df_chart = df_crime_filtered.groupby(['Year'], as_index=False)\\\n",
    "        .agg({'Latitude': 'count'}).rename(columns={'Latitude': 'Count'})\n",
    "\n",
    "    fig_chart = line_chart(df_chart, 'Address: {}'.format(address))\n",
    "\n",
    "    return fig_chart, fig_map, df_centers.to_json()"
   ]
  },
  {
   "cell_type": "code",
   "execution_count": null,
   "metadata": {},
   "outputs": [],
   "source": [
    "def charts_neigh_zip(location, locationSelectValue, crime_type):\n",
    "    if locationSelectValue == 'Neighborhood':\n",
    "        df_crime_chart = df_crime_neigh[df_crime_neigh['Crime Type'] == crime_type]\n",
    "        column = 'Neighborhood'\n",
    "    else:\n",
    "        df_crime_chart = df_crime_zip[df_crime_zip['Crime Type'] == crime_type]\n",
    "        column = 'Zip Code'\n",
    "\n",
    "    # location = clickData['points'][0]['location']\n",
    "    df_crime_chart = df_crime_chart[(df_crime_chart[column] == location)]\n",
    "\n",
    "    gmm_data = cCluster.GMM(location, crime_type)\n",
    "    num_centers = gmm_data[0]\n",
    "    df_centers = pd.DataFrame(gmm_data[1], columns=['lat', 'lon'])\n",
    "    covariances = gmm_data[2]\n",
    "\n",
    "    fig_map = px.scatter_mapbox(\n",
    "        df_centers,\n",
    "        lat='lat',\n",
    "        lon='lon',\n",
    "        zoom=12,\n",
    "        mapbox_style='carto-positron'\n",
    "    )\n",
    "\n",
    "    ellipse_layers = ellipses(df_centers, covariances)\n",
    "    fig_map.layout.update(mapbox_layers=ellipse_layers)\n",
    "\n",
    "    fig_chart = line_chart(df_crime_chart, '{0}: {1}'.format(column, location))\n",
    "    \n",
    "    return fig_chart, fig_map, df_centers.to_json()"
   ]
  },
  {
   "cell_type": "code",
   "execution_count": null,
   "metadata": {},
   "outputs": [],
   "source": [
    "def charts_chicago(crime_type):\n",
    "    # gmm_data = cCluster.GMM_Chicago(crime_type)\n",
    "    \n",
    "    gmm_data = df_chicago_clusters[df_chicago_clusters['Crime Type'] == crime_type].to_dict(orient='records')[0]\n",
    "    num_centers = gmm_data['num centers']\n",
    "    df_centers = pd.DataFrame(gmm_data['centers'], columns=['lat', 'lon'])\n",
    "    covariances = gmm_data['covariances']\n",
    "\n",
    "\n",
    "    fig_map = px.scatter_mapbox(\n",
    "        df_centers,\n",
    "        lat='lat',\n",
    "        lon='lon',\n",
    "        zoom=9,\n",
    "        mapbox_style='carto-positron'\n",
    "    )\n",
    "\n",
    "    ellipse_layers = ellipses(df_centers, covariances)\n",
    "    fig_map.layout.update(mapbox_layers=ellipse_layers)\n",
    "    \n",
    "    df_crime_chicago_filtered = df_crime_chicago[df_crime_chicago['Crime Type'] == crime_type]\n",
    "\n",
    "    fig_chart = line_chart(df_crime_chicago_filtered, 'Chicago')\n",
    "\n",
    "    return fig_chart, fig_map, df_centers.to_json()"
   ]
  },
  {
   "cell_type": "code",
   "execution_count": null,
   "metadata": {},
   "outputs": [],
   "source": [
    "@app.callback(\n",
    "    [Output('crime-chart', 'figure'),\n",
    "    Output('crime-cluster-map', 'figure'),\n",
    "    Output('crime-clusters', 'children'),\n",
    "    Output('callback-data', 'children'),\n",
    "    Output('house-image', 'children'),\n",
    "    Output('price', 'children')],\n",
    "    [Input('chicago-map', 'clickData'),\n",
    "    Input('location-select', 'value'),\n",
    "    Input('btn-submit-address', 'n_clicks'),\n",
    "    Input('crime-types', 'value')],\n",
    "    [State('input-address', 'value'),\n",
    "    State('input-miles', 'value'),\n",
    "    State('callback-data', 'children'),\n",
    "    State('house-image', 'children'),\n",
    "    State('price', 'children')]\n",
    ")\n",
    "def update_crime_chart(clickData, locationSelectValue, n_clicks, crime_type, address, miles, data, img, price):\n",
    "    \n",
    "    if data is None:\n",
    "        data = update_data(clickData, locationSelectValue, n_clicks, crime_type)\n",
    "        fresh_load = True\n",
    "    else:\n",
    "        data = json.loads(data)\n",
    "        fresh_load = False\n",
    "        \n",
    "    if fresh_load:\n",
    "        # Fresh load of the dashboard.\n",
    "        charts = charts_chicago(crime_type)\n",
    "        data = update_data('Chicago', locationSelectValue, n_clicks, crime_type)\n",
    "        \n",
    "    if n_clicks != data['n_clicks']:\n",
    "        # Submit button was clicked.\n",
    "        charts = charts_address(address, miles, crime_type)\n",
    "        house_data = address_to_price_and_image(address)\n",
    "        if house_data == 'INVALID ADDRESS':\n",
    "            #handle invalid address here\n",
    "            img = html.Div(style={'height': 200})\n",
    "            price = 'INVALID ADDRESS'\n",
    "        elif house_data == 'HOUSE NOT FOUND':\n",
    "            #handle house not on Zillow\n",
    "            img = html.Div(style={'height': 200})\n",
    "            price = 'NO ZILLOW LISTING'\n",
    "        else:\n",
    "            price = 'Zestimate: {}'.format(house_data[0])\n",
    "            image_src = house_data[1]\n",
    "            img = html.Img(src=src_image(image_src, URL=True), style={'height': 200})\n",
    "            data = update_data(address, 'Address', n_clicks, crime_type)\n",
    "        \n",
    "    \n",
    "    elif crime_type != data['Crime Type']:\n",
    "        # The crime type was changed.\n",
    "        if data['Location Type'] == 'Address':\n",
    "            charts = charts_address(address, miles, crime_type)\n",
    "            data = update_data(address, 'Address', n_clicks, crime_type, src)\n",
    "        elif data['Location'] == 'Chicago':\n",
    "            charts = charts_chicago(crime_type)\n",
    "            data = update_data('Chicago', locationSelectValue, n_clicks, crime_type)\n",
    "        else:\n",
    "            location = data['Location']\n",
    "            location_type = data['Location Type']\n",
    "            charts = charts_neigh_zip(location, location_type, crime_type)\n",
    "            data = update_data(location, location_type, n_clicks, crime_type, src)\n",
    "    \n",
    "    elif locationSelectValue != data['Location Type'] and crime_type == data['Crime Type']:\n",
    "        charts = charts_chicago(crime_type)\n",
    "        data = update_data('Chicago', locationSelectValue, n_clicks, crime_type)\n",
    "            \n",
    "    elif clickData is not None:\n",
    "        # Either a neighborhood or zip code was clicked.\n",
    "        location = clickData['points'][0]['location']\n",
    "        location_type = locationSelectValue\n",
    "        charts = charts_neigh_zip(location, location_type, crime_type)\n",
    "        data = update_data(location, location_type, n_clicks, crime_type)\n",
    "    \n",
    "    else:\n",
    "        charts = charts_chicago(crime_type)\n",
    "        data = update_data('Chicago', locationSelectValue, n_clicks, crime_type)\n",
    "        \n",
    "    values = list(charts)\n",
    "    values.append(json.dumps(data))\n",
    "    values.append(img)\n",
    "    values.append(price)\n",
    "        \n",
    "    return tuple(values)"
   ]
  },
  {
   "cell_type": "code",
   "execution_count": null,
   "metadata": {},
   "outputs": [],
   "source": [
    "if __name__ == '__main__':\n",
    "    app.run_server()"
   ]
  },
  {
   "cell_type": "code",
   "execution_count": null,
   "metadata": {},
   "outputs": [],
   "source": [
    "# app.run_server(debug=True)"
   ]
  },
  {
   "cell_type": "code",
   "execution_count": null,
   "metadata": {
    "id": "limited-zoning",
    "outputId": "a141e2b7-76e9-4aae-96d9-8ba53e90e85c",
    "tags": []
   },
   "outputs": [],
   "source": [
    "# app.run_server(mode=\"inline\")"
   ]
  },
  {
   "cell_type": "code",
   "execution_count": null,
   "metadata": {},
   "outputs": [],
   "source": [
    "# app.run_server(mode=\"jupyterlab\")"
   ]
  },
  {
   "cell_type": "code",
   "execution_count": null,
   "metadata": {},
   "outputs": [],
   "source": [
    "# app.run_server()"
   ]
  },
  {
   "cell_type": "code",
   "execution_count": null,
   "metadata": {},
   "outputs": [],
   "source": [
    "# Run to terminate the server if necessary:\n",
    "# app._terminate_server_for_port(\"localhost\", 8050)"
   ]
  },
  {
   "cell_type": "code",
   "execution_count": null,
   "metadata": {},
   "outputs": [],
   "source": []
  }
 ],
 "metadata": {
  "colab": {
   "name": "Dashboard.ipynb",
   "provenance": []
  },
  "kernelspec": {
   "display_name": "Python 3",
   "language": "python",
   "name": "python3"
  },
  "language_info": {
   "codemirror_mode": {
    "name": "ipython",
    "version": 3
   },
   "file_extension": ".py",
   "mimetype": "text/x-python",
   "name": "python",
   "nbconvert_exporter": "python",
   "pygments_lexer": "ipython3",
   "version": "3.7.4"
  }
 },
 "nbformat": 4,
 "nbformat_minor": 5
}
