{
 "cells": [
  {
   "cell_type": "code",
   "execution_count": 30,
   "id": "6a13544f-c552-440b-a052-a487ec6d967c",
   "metadata": {},
   "outputs": [],
   "source": [
    "import geopy\n",
    "import geopy.distance\n",
    "import pandas as pd\n",
    "from scipy.spatial import cKDTree\n",
    "from geopy.geocoders import Nominatim"
   ]
  },
  {
   "cell_type": "code",
   "execution_count": 2,
   "id": "e6964817-f25d-4d3c-8900-823d78d8a55c",
   "metadata": {},
   "outputs": [],
   "source": [
    "coord = (41.8781, -87.6298)"
   ]
  },
  {
   "cell_type": "code",
   "execution_count": 3,
   "id": "cd7d5f8b-4bf8-4213-88ec-4c09c0cfb4e1",
   "metadata": {},
   "outputs": [],
   "source": [
    "start = geopy.Point(coord[0], coord[1])"
   ]
  },
  {
   "cell_type": "code",
   "execution_count": 4,
   "id": "b6bf8564-8d05-4b94-b3b7-0ba75afdccb6",
   "metadata": {},
   "outputs": [],
   "source": [
    "d = geopy.distance.geodesic(miles=1)"
   ]
  },
  {
   "cell_type": "code",
   "execution_count": 5,
   "id": "c45027b6-cd80-4d96-8271-454d87267da0",
   "metadata": {},
   "outputs": [
    {
     "data": {
      "text/plain": [
       "Point(41.89258931911811, -87.6298, 0.0)"
      ]
     },
     "execution_count": 5,
     "metadata": {},
     "output_type": "execute_result"
    }
   ],
   "source": [
    "d.destination(point=start, bearing=0)"
   ]
  },
  {
   "cell_type": "code",
   "execution_count": 6,
   "id": "d3d251a1-4b0c-4860-921b-ee9bc7997486",
   "metadata": {},
   "outputs": [],
   "source": [
    "df = pd.read_csv('data/crime-clean.csv')\n",
    "df = df[(df['Year'] < 2021)]"
   ]
  },
  {
   "cell_type": "code",
   "execution_count": 7,
   "id": "83abe12a-9cfd-4f92-b469-13cec6ca2309",
   "metadata": {},
   "outputs": [
    {
     "data": {
      "text/html": [
       "<div>\n",
       "<style scoped>\n",
       "    .dataframe tbody tr th:only-of-type {\n",
       "        vertical-align: middle;\n",
       "    }\n",
       "\n",
       "    .dataframe tbody tr th {\n",
       "        vertical-align: top;\n",
       "    }\n",
       "\n",
       "    .dataframe thead th {\n",
       "        text-align: right;\n",
       "    }\n",
       "</style>\n",
       "<table border=\"1\" class=\"dataframe\">\n",
       "  <thead>\n",
       "    <tr style=\"text-align: right;\">\n",
       "      <th></th>\n",
       "      <th>Crime Type</th>\n",
       "      <th>Latitude</th>\n",
       "      <th>Longitude</th>\n",
       "      <th>Neighborhood</th>\n",
       "      <th>Zip Code</th>\n",
       "      <th>Adult Population</th>\n",
       "      <th>Crime Score</th>\n",
       "      <th>Neigh Score</th>\n",
       "      <th>CSperCapita</th>\n",
       "      <th>Year</th>\n",
       "      <th>Month</th>\n",
       "    </tr>\n",
       "  </thead>\n",
       "  <tbody>\n",
       "    <tr>\n",
       "      <th>0</th>\n",
       "      <td>BATTERY</td>\n",
       "      <td>41.815117</td>\n",
       "      <td>-87.670000</td>\n",
       "      <td>New City</td>\n",
       "      <td>60609</td>\n",
       "      <td>45031</td>\n",
       "      <td>0.4678</td>\n",
       "      <td>15798.9836</td>\n",
       "      <td>0.350847</td>\n",
       "      <td>2015</td>\n",
       "      <td>9</td>\n",
       "    </tr>\n",
       "    <tr>\n",
       "      <th>1</th>\n",
       "      <td>THEFT</td>\n",
       "      <td>41.803227</td>\n",
       "      <td>-87.658360</td>\n",
       "      <td>New City</td>\n",
       "      <td>60609</td>\n",
       "      <td>45031</td>\n",
       "      <td>0.2839</td>\n",
       "      <td>15798.9836</td>\n",
       "      <td>0.350847</td>\n",
       "      <td>2015</td>\n",
       "      <td>9</td>\n",
       "    </tr>\n",
       "    <tr>\n",
       "      <th>2</th>\n",
       "      <td>THEFT</td>\n",
       "      <td>41.800729</td>\n",
       "      <td>-87.667199</td>\n",
       "      <td>New City</td>\n",
       "      <td>60609</td>\n",
       "      <td>45031</td>\n",
       "      <td>0.2840</td>\n",
       "      <td>15798.9836</td>\n",
       "      <td>0.350847</td>\n",
       "      <td>2015</td>\n",
       "      <td>9</td>\n",
       "    </tr>\n",
       "    <tr>\n",
       "      <th>3</th>\n",
       "      <td>PUBLIC PEACE VIOLATION</td>\n",
       "      <td>41.796919</td>\n",
       "      <td>-87.662233</td>\n",
       "      <td>New City</td>\n",
       "      <td>60609</td>\n",
       "      <td>45031</td>\n",
       "      <td>0.0167</td>\n",
       "      <td>15798.9836</td>\n",
       "      <td>0.350847</td>\n",
       "      <td>2015</td>\n",
       "      <td>9</td>\n",
       "    </tr>\n",
       "    <tr>\n",
       "      <th>4</th>\n",
       "      <td>BURGLARY</td>\n",
       "      <td>41.800627</td>\n",
       "      <td>-87.670846</td>\n",
       "      <td>New City</td>\n",
       "      <td>60609</td>\n",
       "      <td>45031</td>\n",
       "      <td>0.4010</td>\n",
       "      <td>15798.9836</td>\n",
       "      <td>0.350847</td>\n",
       "      <td>2015</td>\n",
       "      <td>9</td>\n",
       "    </tr>\n",
       "  </tbody>\n",
       "</table>\n",
       "</div>"
      ],
      "text/plain": [
       "               Crime Type   Latitude  Longitude Neighborhood  Zip Code  \\\n",
       "0                 BATTERY  41.815117 -87.670000     New City     60609   \n",
       "1                   THEFT  41.803227 -87.658360     New City     60609   \n",
       "2                   THEFT  41.800729 -87.667199     New City     60609   \n",
       "3  PUBLIC PEACE VIOLATION  41.796919 -87.662233     New City     60609   \n",
       "4                BURGLARY  41.800627 -87.670846     New City     60609   \n",
       "\n",
       "   Adult Population  Crime Score  Neigh Score  CSperCapita  Year  Month  \n",
       "0             45031       0.4678   15798.9836     0.350847  2015      9  \n",
       "1             45031       0.2839   15798.9836     0.350847  2015      9  \n",
       "2             45031       0.2840   15798.9836     0.350847  2015      9  \n",
       "3             45031       0.0167   15798.9836     0.350847  2015      9  \n",
       "4             45031       0.4010   15798.9836     0.350847  2015      9  "
      ]
     },
     "execution_count": 7,
     "metadata": {},
     "output_type": "execute_result"
    }
   ],
   "source": [
    "df.head()"
   ]
  },
  {
   "cell_type": "code",
   "execution_count": 8,
   "id": "7023b4d3-ea99-48c3-8d67-611453c341ac",
   "metadata": {},
   "outputs": [
    {
     "data": {
      "text/plain": [
       "3149595"
      ]
     },
     "execution_count": 8,
     "metadata": {},
     "output_type": "execute_result"
    }
   ],
   "source": [
    "len(df.index)"
   ]
  },
  {
   "cell_type": "code",
   "execution_count": 9,
   "id": "1b976b17-94df-4454-a8ed-cdf2aff237aa",
   "metadata": {},
   "outputs": [],
   "source": [
    "tree = cKDTree(df[['Latitude', 'Longitude']])"
   ]
  },
  {
   "cell_type": "code",
   "execution_count": 10,
   "id": "eee6e551-f229-4817-904e-6ca905e31b6e",
   "metadata": {},
   "outputs": [],
   "source": [
    "end = d.destination(point=start, bearing=0)"
   ]
  },
  {
   "cell_type": "code",
   "execution_count": 11,
   "id": "d198f8a3-6018-444d-b0a5-1e0ecbf5e00f",
   "metadata": {},
   "outputs": [
    {
     "data": {
      "text/plain": [
       "0.01448931911810547"
      ]
     },
     "execution_count": 11,
     "metadata": {},
     "output_type": "execute_result"
    }
   ],
   "source": [
    "end.latitude - start.latitude"
   ]
  },
  {
   "cell_type": "code",
   "execution_count": 12,
   "id": "83256c5c-4365-49ee-b1ae-4e6c28f389ba",
   "metadata": {},
   "outputs": [],
   "source": [
    "dist = end.latitude - start.latitude"
   ]
  },
  {
   "cell_type": "code",
   "execution_count": 13,
   "id": "752942b1-48a7-4464-8490-48f8dfff3016",
   "metadata": {},
   "outputs": [],
   "source": [
    "points = tree.query_ball_point(coord, dist)"
   ]
  },
  {
   "cell_type": "code",
   "execution_count": 14,
   "id": "492eaa4c-6214-42bb-a317-5a2d89b84fc5",
   "metadata": {},
   "outputs": [
    {
     "data": {
      "text/plain": [
       "128121"
      ]
     },
     "execution_count": 14,
     "metadata": {},
     "output_type": "execute_result"
    }
   ],
   "source": [
    "len(points)"
   ]
  },
  {
   "cell_type": "code",
   "execution_count": 15,
   "id": "cc7ea9ad-a2ef-41b1-a5a7-e07be319dafe",
   "metadata": {},
   "outputs": [
    {
     "data": {
      "text/plain": [
       "[2517944, 2516656, 2521991, 2524683, 2527377]"
      ]
     },
     "execution_count": 15,
     "metadata": {},
     "output_type": "execute_result"
    }
   ],
   "source": [
    "points[:5]"
   ]
  },
  {
   "cell_type": "code",
   "execution_count": 16,
   "id": "9ea8eed6-76e8-4cba-8c08-aac7345b03ec",
   "metadata": {},
   "outputs": [],
   "source": [
    "test = df.iloc[points]"
   ]
  },
  {
   "cell_type": "code",
   "execution_count": 17,
   "id": "13c83153-108f-468a-b7bd-2e2091f6f96b",
   "metadata": {},
   "outputs": [
    {
     "data": {
      "text/html": [
       "<div>\n",
       "<style scoped>\n",
       "    .dataframe tbody tr th:only-of-type {\n",
       "        vertical-align: middle;\n",
       "    }\n",
       "\n",
       "    .dataframe tbody tr th {\n",
       "        vertical-align: top;\n",
       "    }\n",
       "\n",
       "    .dataframe thead th {\n",
       "        text-align: right;\n",
       "    }\n",
       "</style>\n",
       "<table border=\"1\" class=\"dataframe\">\n",
       "  <thead>\n",
       "    <tr style=\"text-align: right;\">\n",
       "      <th></th>\n",
       "      <th>Crime Type</th>\n",
       "      <th>Latitude</th>\n",
       "      <th>Longitude</th>\n",
       "      <th>Neighborhood</th>\n",
       "      <th>Zip Code</th>\n",
       "      <th>Adult Population</th>\n",
       "      <th>Crime Score</th>\n",
       "      <th>Neigh Score</th>\n",
       "      <th>CSperCapita</th>\n",
       "      <th>Year</th>\n",
       "      <th>Month</th>\n",
       "    </tr>\n",
       "  </thead>\n",
       "  <tbody>\n",
       "    <tr>\n",
       "      <th>2547869</th>\n",
       "      <td>CRIMINAL TRESPASS</td>\n",
       "      <td>41.874361</td>\n",
       "      <td>-87.643134</td>\n",
       "      <td>West Loop</td>\n",
       "      <td>60607</td>\n",
       "      <td>26197</td>\n",
       "      <td>0.2064</td>\n",
       "      <td>11080.4543</td>\n",
       "      <td>0.422967</td>\n",
       "      <td>2017</td>\n",
       "      <td>10</td>\n",
       "    </tr>\n",
       "    <tr>\n",
       "      <th>2546581</th>\n",
       "      <td>THEFT</td>\n",
       "      <td>41.874361</td>\n",
       "      <td>-87.643164</td>\n",
       "      <td>West Loop</td>\n",
       "      <td>60607</td>\n",
       "      <td>26197</td>\n",
       "      <td>0.3719</td>\n",
       "      <td>11080.4543</td>\n",
       "      <td>0.422967</td>\n",
       "      <td>2017</td>\n",
       "      <td>6</td>\n",
       "    </tr>\n",
       "    <tr>\n",
       "      <th>2551916</th>\n",
       "      <td>THEFT</td>\n",
       "      <td>41.874361</td>\n",
       "      <td>-87.643164</td>\n",
       "      <td>West Loop</td>\n",
       "      <td>60607</td>\n",
       "      <td>26197</td>\n",
       "      <td>0.4584</td>\n",
       "      <td>11080.4543</td>\n",
       "      <td>0.422967</td>\n",
       "      <td>2019</td>\n",
       "      <td>3</td>\n",
       "    </tr>\n",
       "    <tr>\n",
       "      <th>2554608</th>\n",
       "      <td>CRIMINAL TRESPASS</td>\n",
       "      <td>41.874361</td>\n",
       "      <td>-87.643164</td>\n",
       "      <td>West Loop</td>\n",
       "      <td>60607</td>\n",
       "      <td>26197</td>\n",
       "      <td>0.0109</td>\n",
       "      <td>11080.4543</td>\n",
       "      <td>0.422967</td>\n",
       "      <td>2010</td>\n",
       "      <td>5</td>\n",
       "    </tr>\n",
       "    <tr>\n",
       "      <th>2557302</th>\n",
       "      <td>NARCOTICS</td>\n",
       "      <td>41.874362</td>\n",
       "      <td>-87.643222</td>\n",
       "      <td>West Loop</td>\n",
       "      <td>60607</td>\n",
       "      <td>26197</td>\n",
       "      <td>0.0837</td>\n",
       "      <td>11080.4543</td>\n",
       "      <td>0.422967</td>\n",
       "      <td>2011</td>\n",
       "      <td>3</td>\n",
       "    </tr>\n",
       "  </tbody>\n",
       "</table>\n",
       "</div>"
      ],
      "text/plain": [
       "                Crime Type   Latitude  Longitude Neighborhood  Zip Code  \\\n",
       "2547869  CRIMINAL TRESPASS  41.874361 -87.643134    West Loop     60607   \n",
       "2546581              THEFT  41.874361 -87.643164    West Loop     60607   \n",
       "2551916              THEFT  41.874361 -87.643164    West Loop     60607   \n",
       "2554608  CRIMINAL TRESPASS  41.874361 -87.643164    West Loop     60607   \n",
       "2557302          NARCOTICS  41.874362 -87.643222    West Loop     60607   \n",
       "\n",
       "         Adult Population  Crime Score  Neigh Score  CSperCapita  Year  Month  \n",
       "2547869             26197       0.2064   11080.4543     0.422967  2017     10  \n",
       "2546581             26197       0.3719   11080.4543     0.422967  2017      6  \n",
       "2551916             26197       0.4584   11080.4543     0.422967  2019      3  \n",
       "2554608             26197       0.0109   11080.4543     0.422967  2010      5  \n",
       "2557302             26197       0.0837   11080.4543     0.422967  2011      3  "
      ]
     },
     "execution_count": 17,
     "metadata": {},
     "output_type": "execute_result"
    }
   ],
   "source": [
    "test.head()"
   ]
  },
  {
   "cell_type": "code",
   "execution_count": 18,
   "id": "8be6beec-b3b2-479f-9662-922176b362c3",
   "metadata": {},
   "outputs": [],
   "source": [
    "def calc_dist(row):\n",
    "    return geopy.distance.distance(coord, (row['Latitude'], row['Longitude'])).miles"
   ]
  },
  {
   "cell_type": "code",
   "execution_count": 19,
   "id": "9622cab1-043a-40ac-9939-24c5f0d24b3d",
   "metadata": {},
   "outputs": [],
   "source": [
    "test = df.iloc[:100].copy()"
   ]
  },
  {
   "cell_type": "code",
   "execution_count": 20,
   "id": "0adb5539-b1f2-440c-94fd-525cfe79f59f",
   "metadata": {},
   "outputs": [],
   "source": [
    "test['Distance'] = test.apply(calc_dist, axis=1)"
   ]
  },
  {
   "cell_type": "code",
   "execution_count": 21,
   "id": "52e1494c-6fa3-4659-ab98-144d9d1f602a",
   "metadata": {},
   "outputs": [
    {
     "data": {
      "text/html": [
       "<div>\n",
       "<style scoped>\n",
       "    .dataframe tbody tr th:only-of-type {\n",
       "        vertical-align: middle;\n",
       "    }\n",
       "\n",
       "    .dataframe tbody tr th {\n",
       "        vertical-align: top;\n",
       "    }\n",
       "\n",
       "    .dataframe thead th {\n",
       "        text-align: right;\n",
       "    }\n",
       "</style>\n",
       "<table border=\"1\" class=\"dataframe\">\n",
       "  <thead>\n",
       "    <tr style=\"text-align: right;\">\n",
       "      <th></th>\n",
       "      <th>Crime Type</th>\n",
       "      <th>Latitude</th>\n",
       "      <th>Longitude</th>\n",
       "      <th>Neighborhood</th>\n",
       "      <th>Zip Code</th>\n",
       "      <th>Adult Population</th>\n",
       "      <th>Crime Score</th>\n",
       "      <th>Neigh Score</th>\n",
       "      <th>CSperCapita</th>\n",
       "      <th>Year</th>\n",
       "      <th>Month</th>\n",
       "      <th>Distance</th>\n",
       "    </tr>\n",
       "  </thead>\n",
       "  <tbody>\n",
       "    <tr>\n",
       "      <th>0</th>\n",
       "      <td>BATTERY</td>\n",
       "      <td>41.815117</td>\n",
       "      <td>-87.670000</td>\n",
       "      <td>New City</td>\n",
       "      <td>60609</td>\n",
       "      <td>45031</td>\n",
       "      <td>0.4678</td>\n",
       "      <td>15798.9836</td>\n",
       "      <td>0.350847</td>\n",
       "      <td>2015</td>\n",
       "      <td>9</td>\n",
       "      <td>4.816452</td>\n",
       "    </tr>\n",
       "    <tr>\n",
       "      <th>1</th>\n",
       "      <td>THEFT</td>\n",
       "      <td>41.803227</td>\n",
       "      <td>-87.658360</td>\n",
       "      <td>New City</td>\n",
       "      <td>60609</td>\n",
       "      <td>45031</td>\n",
       "      <td>0.2839</td>\n",
       "      <td>15798.9836</td>\n",
       "      <td>0.350847</td>\n",
       "      <td>2015</td>\n",
       "      <td>9</td>\n",
       "      <td>5.373519</td>\n",
       "    </tr>\n",
       "    <tr>\n",
       "      <th>2</th>\n",
       "      <td>THEFT</td>\n",
       "      <td>41.800729</td>\n",
       "      <td>-87.667199</td>\n",
       "      <td>New City</td>\n",
       "      <td>60609</td>\n",
       "      <td>45031</td>\n",
       "      <td>0.2840</td>\n",
       "      <td>15798.9836</td>\n",
       "      <td>0.350847</td>\n",
       "      <td>2015</td>\n",
       "      <td>9</td>\n",
       "      <td>5.677949</td>\n",
       "    </tr>\n",
       "    <tr>\n",
       "      <th>3</th>\n",
       "      <td>PUBLIC PEACE VIOLATION</td>\n",
       "      <td>41.796919</td>\n",
       "      <td>-87.662233</td>\n",
       "      <td>New City</td>\n",
       "      <td>60609</td>\n",
       "      <td>45031</td>\n",
       "      <td>0.0167</td>\n",
       "      <td>15798.9836</td>\n",
       "      <td>0.350847</td>\n",
       "      <td>2015</td>\n",
       "      <td>9</td>\n",
       "      <td>5.847496</td>\n",
       "    </tr>\n",
       "    <tr>\n",
       "      <th>4</th>\n",
       "      <td>BURGLARY</td>\n",
       "      <td>41.800627</td>\n",
       "      <td>-87.670846</td>\n",
       "      <td>New City</td>\n",
       "      <td>60609</td>\n",
       "      <td>45031</td>\n",
       "      <td>0.4010</td>\n",
       "      <td>15798.9836</td>\n",
       "      <td>0.350847</td>\n",
       "      <td>2015</td>\n",
       "      <td>9</td>\n",
       "      <td>5.751225</td>\n",
       "    </tr>\n",
       "  </tbody>\n",
       "</table>\n",
       "</div>"
      ],
      "text/plain": [
       "               Crime Type   Latitude  Longitude Neighborhood  Zip Code  \\\n",
       "0                 BATTERY  41.815117 -87.670000     New City     60609   \n",
       "1                   THEFT  41.803227 -87.658360     New City     60609   \n",
       "2                   THEFT  41.800729 -87.667199     New City     60609   \n",
       "3  PUBLIC PEACE VIOLATION  41.796919 -87.662233     New City     60609   \n",
       "4                BURGLARY  41.800627 -87.670846     New City     60609   \n",
       "\n",
       "   Adult Population  Crime Score  Neigh Score  CSperCapita  Year  Month  \\\n",
       "0             45031       0.4678   15798.9836     0.350847  2015      9   \n",
       "1             45031       0.2839   15798.9836     0.350847  2015      9   \n",
       "2             45031       0.2840   15798.9836     0.350847  2015      9   \n",
       "3             45031       0.0167   15798.9836     0.350847  2015      9   \n",
       "4             45031       0.4010   15798.9836     0.350847  2015      9   \n",
       "\n",
       "   Distance  \n",
       "0  4.816452  \n",
       "1  5.373519  \n",
       "2  5.677949  \n",
       "3  5.847496  \n",
       "4  5.751225  "
      ]
     },
     "execution_count": 21,
     "metadata": {},
     "output_type": "execute_result"
    }
   ],
   "source": [
    "test.head()"
   ]
  },
  {
   "cell_type": "code",
   "execution_count": 22,
   "id": "b0b9d025-6f6a-44bd-99b7-2927a1d5ef6e",
   "metadata": {},
   "outputs": [],
   "source": [
    "test2 = df.iloc[points].copy()"
   ]
  },
  {
   "cell_type": "code",
   "execution_count": 23,
   "id": "a771bff5-50b5-45a2-ac91-8a48e066f12e",
   "metadata": {},
   "outputs": [
    {
     "data": {
      "text/html": [
       "<div>\n",
       "<style scoped>\n",
       "    .dataframe tbody tr th:only-of-type {\n",
       "        vertical-align: middle;\n",
       "    }\n",
       "\n",
       "    .dataframe tbody tr th {\n",
       "        vertical-align: top;\n",
       "    }\n",
       "\n",
       "    .dataframe thead th {\n",
       "        text-align: right;\n",
       "    }\n",
       "</style>\n",
       "<table border=\"1\" class=\"dataframe\">\n",
       "  <thead>\n",
       "    <tr style=\"text-align: right;\">\n",
       "      <th></th>\n",
       "      <th>Crime Type</th>\n",
       "      <th>Latitude</th>\n",
       "      <th>Longitude</th>\n",
       "      <th>Neighborhood</th>\n",
       "      <th>Zip Code</th>\n",
       "      <th>Adult Population</th>\n",
       "      <th>Crime Score</th>\n",
       "      <th>Neigh Score</th>\n",
       "      <th>CSperCapita</th>\n",
       "      <th>Year</th>\n",
       "      <th>Month</th>\n",
       "    </tr>\n",
       "  </thead>\n",
       "  <tbody>\n",
       "    <tr>\n",
       "      <th>2547869</th>\n",
       "      <td>CRIMINAL TRESPASS</td>\n",
       "      <td>41.874361</td>\n",
       "      <td>-87.643134</td>\n",
       "      <td>West Loop</td>\n",
       "      <td>60607</td>\n",
       "      <td>26197</td>\n",
       "      <td>0.2064</td>\n",
       "      <td>11080.4543</td>\n",
       "      <td>0.422967</td>\n",
       "      <td>2017</td>\n",
       "      <td>10</td>\n",
       "    </tr>\n",
       "    <tr>\n",
       "      <th>2546581</th>\n",
       "      <td>THEFT</td>\n",
       "      <td>41.874361</td>\n",
       "      <td>-87.643164</td>\n",
       "      <td>West Loop</td>\n",
       "      <td>60607</td>\n",
       "      <td>26197</td>\n",
       "      <td>0.3719</td>\n",
       "      <td>11080.4543</td>\n",
       "      <td>0.422967</td>\n",
       "      <td>2017</td>\n",
       "      <td>6</td>\n",
       "    </tr>\n",
       "    <tr>\n",
       "      <th>2551916</th>\n",
       "      <td>THEFT</td>\n",
       "      <td>41.874361</td>\n",
       "      <td>-87.643164</td>\n",
       "      <td>West Loop</td>\n",
       "      <td>60607</td>\n",
       "      <td>26197</td>\n",
       "      <td>0.4584</td>\n",
       "      <td>11080.4543</td>\n",
       "      <td>0.422967</td>\n",
       "      <td>2019</td>\n",
       "      <td>3</td>\n",
       "    </tr>\n",
       "    <tr>\n",
       "      <th>2554608</th>\n",
       "      <td>CRIMINAL TRESPASS</td>\n",
       "      <td>41.874361</td>\n",
       "      <td>-87.643164</td>\n",
       "      <td>West Loop</td>\n",
       "      <td>60607</td>\n",
       "      <td>26197</td>\n",
       "      <td>0.0109</td>\n",
       "      <td>11080.4543</td>\n",
       "      <td>0.422967</td>\n",
       "      <td>2010</td>\n",
       "      <td>5</td>\n",
       "    </tr>\n",
       "    <tr>\n",
       "      <th>2557302</th>\n",
       "      <td>NARCOTICS</td>\n",
       "      <td>41.874362</td>\n",
       "      <td>-87.643222</td>\n",
       "      <td>West Loop</td>\n",
       "      <td>60607</td>\n",
       "      <td>26197</td>\n",
       "      <td>0.0837</td>\n",
       "      <td>11080.4543</td>\n",
       "      <td>0.422967</td>\n",
       "      <td>2011</td>\n",
       "      <td>3</td>\n",
       "    </tr>\n",
       "  </tbody>\n",
       "</table>\n",
       "</div>"
      ],
      "text/plain": [
       "                Crime Type   Latitude  Longitude Neighborhood  Zip Code  \\\n",
       "2547869  CRIMINAL TRESPASS  41.874361 -87.643134    West Loop     60607   \n",
       "2546581              THEFT  41.874361 -87.643164    West Loop     60607   \n",
       "2551916              THEFT  41.874361 -87.643164    West Loop     60607   \n",
       "2554608  CRIMINAL TRESPASS  41.874361 -87.643164    West Loop     60607   \n",
       "2557302          NARCOTICS  41.874362 -87.643222    West Loop     60607   \n",
       "\n",
       "         Adult Population  Crime Score  Neigh Score  CSperCapita  Year  Month  \n",
       "2547869             26197       0.2064   11080.4543     0.422967  2017     10  \n",
       "2546581             26197       0.3719   11080.4543     0.422967  2017      6  \n",
       "2551916             26197       0.4584   11080.4543     0.422967  2019      3  \n",
       "2554608             26197       0.0109   11080.4543     0.422967  2010      5  \n",
       "2557302             26197       0.0837   11080.4543     0.422967  2011      3  "
      ]
     },
     "execution_count": 23,
     "metadata": {},
     "output_type": "execute_result"
    }
   ],
   "source": [
    "test2.head()"
   ]
  },
  {
   "cell_type": "code",
   "execution_count": 24,
   "id": "04b61a08-727c-4ac3-9c06-094e4c297195",
   "metadata": {},
   "outputs": [],
   "source": [
    "test2['Distance'] = test2.apply(calc_dist, axis=1)"
   ]
  },
  {
   "cell_type": "code",
   "execution_count": 25,
   "id": "6e339be1-4760-40c6-a884-c71349a6df89",
   "metadata": {},
   "outputs": [
    {
     "data": {
      "text/html": [
       "<div>\n",
       "<style scoped>\n",
       "    .dataframe tbody tr th:only-of-type {\n",
       "        vertical-align: middle;\n",
       "    }\n",
       "\n",
       "    .dataframe tbody tr th {\n",
       "        vertical-align: top;\n",
       "    }\n",
       "\n",
       "    .dataframe thead th {\n",
       "        text-align: right;\n",
       "    }\n",
       "</style>\n",
       "<table border=\"1\" class=\"dataframe\">\n",
       "  <thead>\n",
       "    <tr style=\"text-align: right;\">\n",
       "      <th></th>\n",
       "      <th>Crime Type</th>\n",
       "      <th>Latitude</th>\n",
       "      <th>Longitude</th>\n",
       "      <th>Neighborhood</th>\n",
       "      <th>Zip Code</th>\n",
       "      <th>Adult Population</th>\n",
       "      <th>Crime Score</th>\n",
       "      <th>Neigh Score</th>\n",
       "      <th>CSperCapita</th>\n",
       "      <th>Year</th>\n",
       "      <th>Month</th>\n",
       "      <th>Distance</th>\n",
       "    </tr>\n",
       "  </thead>\n",
       "  <tbody>\n",
       "    <tr>\n",
       "      <th>2547869</th>\n",
       "      <td>CRIMINAL TRESPASS</td>\n",
       "      <td>41.874361</td>\n",
       "      <td>-87.643134</td>\n",
       "      <td>West Loop</td>\n",
       "      <td>60607</td>\n",
       "      <td>26197</td>\n",
       "      <td>0.2064</td>\n",
       "      <td>11080.4543</td>\n",
       "      <td>0.422967</td>\n",
       "      <td>2017</td>\n",
       "      <td>10</td>\n",
       "      <td>0.734599</td>\n",
       "    </tr>\n",
       "    <tr>\n",
       "      <th>2546581</th>\n",
       "      <td>THEFT</td>\n",
       "      <td>41.874361</td>\n",
       "      <td>-87.643164</td>\n",
       "      <td>West Loop</td>\n",
       "      <td>60607</td>\n",
       "      <td>26197</td>\n",
       "      <td>0.3719</td>\n",
       "      <td>11080.4543</td>\n",
       "      <td>0.422967</td>\n",
       "      <td>2017</td>\n",
       "      <td>6</td>\n",
       "      <td>0.736013</td>\n",
       "    </tr>\n",
       "    <tr>\n",
       "      <th>2551916</th>\n",
       "      <td>THEFT</td>\n",
       "      <td>41.874361</td>\n",
       "      <td>-87.643164</td>\n",
       "      <td>West Loop</td>\n",
       "      <td>60607</td>\n",
       "      <td>26197</td>\n",
       "      <td>0.4584</td>\n",
       "      <td>11080.4543</td>\n",
       "      <td>0.422967</td>\n",
       "      <td>2019</td>\n",
       "      <td>3</td>\n",
       "      <td>0.736013</td>\n",
       "    </tr>\n",
       "    <tr>\n",
       "      <th>2554608</th>\n",
       "      <td>CRIMINAL TRESPASS</td>\n",
       "      <td>41.874361</td>\n",
       "      <td>-87.643164</td>\n",
       "      <td>West Loop</td>\n",
       "      <td>60607</td>\n",
       "      <td>26197</td>\n",
       "      <td>0.0109</td>\n",
       "      <td>11080.4543</td>\n",
       "      <td>0.422967</td>\n",
       "      <td>2010</td>\n",
       "      <td>5</td>\n",
       "      <td>0.736013</td>\n",
       "    </tr>\n",
       "    <tr>\n",
       "      <th>2557302</th>\n",
       "      <td>NARCOTICS</td>\n",
       "      <td>41.874362</td>\n",
       "      <td>-87.643222</td>\n",
       "      <td>West Loop</td>\n",
       "      <td>60607</td>\n",
       "      <td>26197</td>\n",
       "      <td>0.0837</td>\n",
       "      <td>11080.4543</td>\n",
       "      <td>0.422967</td>\n",
       "      <td>2011</td>\n",
       "      <td>3</td>\n",
       "      <td>0.738843</td>\n",
       "    </tr>\n",
       "  </tbody>\n",
       "</table>\n",
       "</div>"
      ],
      "text/plain": [
       "                Crime Type   Latitude  Longitude Neighborhood  Zip Code  \\\n",
       "2547869  CRIMINAL TRESPASS  41.874361 -87.643134    West Loop     60607   \n",
       "2546581              THEFT  41.874361 -87.643164    West Loop     60607   \n",
       "2551916              THEFT  41.874361 -87.643164    West Loop     60607   \n",
       "2554608  CRIMINAL TRESPASS  41.874361 -87.643164    West Loop     60607   \n",
       "2557302          NARCOTICS  41.874362 -87.643222    West Loop     60607   \n",
       "\n",
       "         Adult Population  Crime Score  Neigh Score  CSperCapita  Year  Month  \\\n",
       "2547869             26197       0.2064   11080.4543     0.422967  2017     10   \n",
       "2546581             26197       0.3719   11080.4543     0.422967  2017      6   \n",
       "2551916             26197       0.4584   11080.4543     0.422967  2019      3   \n",
       "2554608             26197       0.0109   11080.4543     0.422967  2010      5   \n",
       "2557302             26197       0.0837   11080.4543     0.422967  2011      3   \n",
       "\n",
       "         Distance  \n",
       "2547869  0.734599  \n",
       "2546581  0.736013  \n",
       "2551916  0.736013  \n",
       "2554608  0.736013  \n",
       "2557302  0.738843  "
      ]
     },
     "execution_count": 25,
     "metadata": {},
     "output_type": "execute_result"
    }
   ],
   "source": [
    "test2.head()"
   ]
  },
  {
   "cell_type": "code",
   "execution_count": 26,
   "id": "3c5e6748-c131-44ca-b4f2-d8ef2a0ee123",
   "metadata": {},
   "outputs": [],
   "source": [
    "test3 = test2[test2['Distance'] > 1]"
   ]
  },
  {
   "cell_type": "code",
   "execution_count": 27,
   "id": "de039aba-09c1-4e36-aa4d-5d9eb2899c8d",
   "metadata": {},
   "outputs": [
    {
     "data": {
      "text/html": [
       "<div>\n",
       "<style scoped>\n",
       "    .dataframe tbody tr th:only-of-type {\n",
       "        vertical-align: middle;\n",
       "    }\n",
       "\n",
       "    .dataframe tbody tr th {\n",
       "        vertical-align: top;\n",
       "    }\n",
       "\n",
       "    .dataframe thead th {\n",
       "        text-align: right;\n",
       "    }\n",
       "</style>\n",
       "<table border=\"1\" class=\"dataframe\">\n",
       "  <thead>\n",
       "    <tr style=\"text-align: right;\">\n",
       "      <th></th>\n",
       "      <th>Crime Type</th>\n",
       "      <th>Latitude</th>\n",
       "      <th>Longitude</th>\n",
       "      <th>Neighborhood</th>\n",
       "      <th>Zip Code</th>\n",
       "      <th>Adult Population</th>\n",
       "      <th>Crime Score</th>\n",
       "      <th>Neigh Score</th>\n",
       "      <th>CSperCapita</th>\n",
       "      <th>Year</th>\n",
       "      <th>Month</th>\n",
       "      <th>Distance</th>\n",
       "    </tr>\n",
       "  </thead>\n",
       "  <tbody>\n",
       "  </tbody>\n",
       "</table>\n",
       "</div>"
      ],
      "text/plain": [
       "Empty DataFrame\n",
       "Columns: [Crime Type, Latitude, Longitude, Neighborhood, Zip Code, Adult Population, Crime Score, Neigh Score, CSperCapita, Year, Month, Distance]\n",
       "Index: []"
      ]
     },
     "execution_count": 27,
     "metadata": {},
     "output_type": "execute_result"
    }
   ],
   "source": [
    "test3.head()"
   ]
  },
  {
   "cell_type": "code",
   "execution_count": 28,
   "id": "64c33dac-ca69-4e34-8175-6343dafa639f",
   "metadata": {},
   "outputs": [],
   "source": [
    "test4 = test2.sort_values(by='Distance', ascending=False)"
   ]
  },
  {
   "cell_type": "code",
   "execution_count": 29,
   "id": "2fd9e771-17bd-41ab-827a-4bd9b04574e2",
   "metadata": {},
   "outputs": [
    {
     "data": {
      "text/html": [
       "<div>\n",
       "<style scoped>\n",
       "    .dataframe tbody tr th:only-of-type {\n",
       "        vertical-align: middle;\n",
       "    }\n",
       "\n",
       "    .dataframe tbody tr th {\n",
       "        vertical-align: top;\n",
       "    }\n",
       "\n",
       "    .dataframe thead th {\n",
       "        text-align: right;\n",
       "    }\n",
       "</style>\n",
       "<table border=\"1\" class=\"dataframe\">\n",
       "  <thead>\n",
       "    <tr style=\"text-align: right;\">\n",
       "      <th></th>\n",
       "      <th>Crime Type</th>\n",
       "      <th>Latitude</th>\n",
       "      <th>Longitude</th>\n",
       "      <th>Neighborhood</th>\n",
       "      <th>Zip Code</th>\n",
       "      <th>Adult Population</th>\n",
       "      <th>Crime Score</th>\n",
       "      <th>Neigh Score</th>\n",
       "      <th>CSperCapita</th>\n",
       "      <th>Year</th>\n",
       "      <th>Month</th>\n",
       "      <th>Distance</th>\n",
       "    </tr>\n",
       "  </thead>\n",
       "  <tbody>\n",
       "    <tr>\n",
       "      <th>2445895</th>\n",
       "      <td>THEFT</td>\n",
       "      <td>41.863619</td>\n",
       "      <td>-87.629384</td>\n",
       "      <td>Near South Side</td>\n",
       "      <td>60605</td>\n",
       "      <td>25954</td>\n",
       "      <td>0.3551</td>\n",
       "      <td>5218.9478</td>\n",
       "      <td>0.201085</td>\n",
       "      <td>2017</td>\n",
       "      <td>2</td>\n",
       "      <td>0.999644</td>\n",
       "    </tr>\n",
       "    <tr>\n",
       "      <th>2445569</th>\n",
       "      <td>BURGLARY</td>\n",
       "      <td>41.863619</td>\n",
       "      <td>-87.629384</td>\n",
       "      <td>Near South Side</td>\n",
       "      <td>60605</td>\n",
       "      <td>25954</td>\n",
       "      <td>0.4584</td>\n",
       "      <td>5218.9478</td>\n",
       "      <td>0.201085</td>\n",
       "      <td>2016</td>\n",
       "      <td>6</td>\n",
       "      <td>0.999644</td>\n",
       "    </tr>\n",
       "    <tr>\n",
       "      <th>2450280</th>\n",
       "      <td>THEFT</td>\n",
       "      <td>41.863619</td>\n",
       "      <td>-87.629384</td>\n",
       "      <td>Near South Side</td>\n",
       "      <td>60605</td>\n",
       "      <td>25954</td>\n",
       "      <td>0.1540</td>\n",
       "      <td>5218.9478</td>\n",
       "      <td>0.201085</td>\n",
       "      <td>2013</td>\n",
       "      <td>1</td>\n",
       "      <td>0.999644</td>\n",
       "    </tr>\n",
       "    <tr>\n",
       "      <th>2449853</th>\n",
       "      <td>BURGLARY</td>\n",
       "      <td>41.863619</td>\n",
       "      <td>-87.629384</td>\n",
       "      <td>Near South Side</td>\n",
       "      <td>60605</td>\n",
       "      <td>25954</td>\n",
       "      <td>0.1828</td>\n",
       "      <td>5218.9478</td>\n",
       "      <td>0.201085</td>\n",
       "      <td>2012</td>\n",
       "      <td>8</td>\n",
       "      <td>0.999644</td>\n",
       "    </tr>\n",
       "    <tr>\n",
       "      <th>2449157</th>\n",
       "      <td>THEFT</td>\n",
       "      <td>41.863619</td>\n",
       "      <td>-87.629384</td>\n",
       "      <td>Near South Side</td>\n",
       "      <td>60605</td>\n",
       "      <td>25954</td>\n",
       "      <td>0.0762</td>\n",
       "      <td>5218.9478</td>\n",
       "      <td>0.201085</td>\n",
       "      <td>2011</td>\n",
       "      <td>7</td>\n",
       "      <td>0.999644</td>\n",
       "    </tr>\n",
       "  </tbody>\n",
       "</table>\n",
       "</div>"
      ],
      "text/plain": [
       "        Crime Type   Latitude  Longitude     Neighborhood  Zip Code  \\\n",
       "2445895      THEFT  41.863619 -87.629384  Near South Side     60605   \n",
       "2445569   BURGLARY  41.863619 -87.629384  Near South Side     60605   \n",
       "2450280      THEFT  41.863619 -87.629384  Near South Side     60605   \n",
       "2449853   BURGLARY  41.863619 -87.629384  Near South Side     60605   \n",
       "2449157      THEFT  41.863619 -87.629384  Near South Side     60605   \n",
       "\n",
       "         Adult Population  Crime Score  Neigh Score  CSperCapita  Year  Month  \\\n",
       "2445895             25954       0.3551    5218.9478     0.201085  2017      2   \n",
       "2445569             25954       0.4584    5218.9478     0.201085  2016      6   \n",
       "2450280             25954       0.1540    5218.9478     0.201085  2013      1   \n",
       "2449853             25954       0.1828    5218.9478     0.201085  2012      8   \n",
       "2449157             25954       0.0762    5218.9478     0.201085  2011      7   \n",
       "\n",
       "         Distance  \n",
       "2445895  0.999644  \n",
       "2445569  0.999644  \n",
       "2450280  0.999644  \n",
       "2449853  0.999644  \n",
       "2449157  0.999644  "
      ]
     },
     "execution_count": 29,
     "metadata": {},
     "output_type": "execute_result"
    }
   ],
   "source": [
    "test4.head()"
   ]
  },
  {
   "cell_type": "code",
   "execution_count": 47,
   "id": "bc517b21-915e-4f81-851b-0f9a13fd7116",
   "metadata": {},
   "outputs": [],
   "source": [
    "address = '4149 N Western Ave Chicago'"
   ]
  },
  {
   "cell_type": "code",
   "execution_count": 48,
   "id": "b52fb568-c241-487a-b242-a5d33ed14a70",
   "metadata": {},
   "outputs": [],
   "source": [
    "geolocator = Nominatim(user_agent='team175')\n",
    "location = geolocator.geocode(address)"
   ]
  },
  {
   "cell_type": "code",
   "execution_count": 49,
   "id": "ad4441dd-b3bc-40ab-b422-243aedf793d4",
   "metadata": {},
   "outputs": [
    {
     "data": {
      "text/plain": [
       "'4149, North Western Avenue, North Center, Chicago, Lake View Township, Cook County, Illinois, 60618-9997, United States'"
      ]
     },
     "execution_count": 49,
     "metadata": {},
     "output_type": "execute_result"
    }
   ],
   "source": [
    "location.address"
   ]
  },
  {
   "cell_type": "code",
   "execution_count": null,
   "id": "8b0f6054-1330-4f23-b32d-6209d7013b93",
   "metadata": {},
   "outputs": [],
   "source": []
  }
 ],
 "metadata": {
  "kernelspec": {
   "display_name": "Python 3",
   "language": "python",
   "name": "python3"
  },
  "language_info": {
   "codemirror_mode": {
    "name": "ipython",
    "version": 3
   },
   "file_extension": ".py",
   "mimetype": "text/x-python",
   "name": "python",
   "nbconvert_exporter": "python",
   "pygments_lexer": "ipython3",
   "version": "3.9.2"
  }
 },
 "nbformat": 4,
 "nbformat_minor": 5
}
